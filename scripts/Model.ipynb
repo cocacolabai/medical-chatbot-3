{
 "cells": [
  {
   "cell_type": "code",
   "execution_count": null,
   "metadata": {},
   "outputs": [],
   "source": []
  },
  {
   "cell_type": "code",
   "execution_count": 1,
   "metadata": {},
   "outputs": [
    {
     "name": "stdout",
     "output_type": "stream",
     "text": [
      "WARNING:tensorflow:From /Library/Frameworks/Python.framework/Versions/3.7/lib/python3.7/site-packages/tensorflow/python/framework/op_def_library.py:263: colocate_with (from tensorflow.python.framework.ops) is deprecated and will be removed in a future version.\n",
      "Instructions for updating:\n",
      "Colocations handled automatically by placer.\n"
     ]
    }
   ],
   "source": [
    "import nltk\n",
    "from nltk.stem.lancaster import LancasterStemmer\n",
    "stemmer = LancasterStemmer()\n",
    "\n",
    "import numpy as np\n",
    "import tflearn\n",
    "import tensorflow as tf\n",
    "import random"
   ]
  },
  {
   "cell_type": "code",
   "execution_count": 2,
   "metadata": {},
   "outputs": [],
   "source": [
    "import json\n",
    "with open('../intents/intents.json') as json_data:\n",
    "    intents = json.load(json_data)"
   ]
  },
  {
   "cell_type": "code",
   "execution_count": 3,
   "metadata": {},
   "outputs": [
    {
     "name": "stderr",
     "output_type": "stream",
     "text": [
      "[nltk_data] Downloading package punkt to\n",
      "[nltk_data]     /Users/reynadoerwald/nltk_data...\n",
      "[nltk_data]   Package punkt is already up-to-date!\n"
     ]
    },
    {
     "data": {
      "text/plain": [
       "True"
      ]
     },
     "execution_count": 3,
     "metadata": {},
     "output_type": "execute_result"
    }
   ],
   "source": [
    "nltk.download('punkt')"
   ]
  },
  {
   "cell_type": "code",
   "execution_count": 4,
   "metadata": {},
   "outputs": [
    {
     "name": "stdout",
     "output_type": "stream",
     "text": [
      "3113 documents\n",
      "711 classes ['hypertensive disease', 'diabetes', 'depression mental', 'depressive disorder', 'coronary arteriosclerosis', 'coronary heart disease', 'pneumonia', 'failure heart congestive', 'accident cerebrovascular', 'asthma', 'myocardial infarction', 'hypercholesterolemia', 'infection', 'infection urinary tract', 'anemia', 'chronic obstructive airway disease', 'dementia', 'insufficiency renal', 'confusion', 'degenerative polyarthritis', 'hypothyroidism', 'anxiety state', 'malignant neoplasms', 'primary malignant neoplasm', 'acquired immuno-deficiency syndrome', 'HIV', 'hiv infections', 'cellulitis', 'gastroesophageal reflux disease', 'septicemia', 'systemic infection', 'sepsis (invertebrate)', 'deep vein thrombosis', 'dehydration', 'neoplasm', 'embolism pulmonary', 'epilepsy', 'cardiomyopathy', 'chronic kidney failure', 'carcinoma', 'hepatitis ', 'peripheral vascular disease', 'psychotic disorder', 'hyperlipidemia', 'bipolar disorder', 'obesity', 'ischemia', 'cirrhosis', 'exanthema', 'benign prostatic hypertrophy', 'kidney failure acute', 'mitral valve insufficiency', 'arthritis', 'bronchitis', 'hemiparesis', 'osteoporosis', 'transient ischemic attack', 'adenocarcinoma', 'paranoia', 'pancreatitis', 'incontinence', 'paroxysmal dyspnea', 'hernia', 'malignant neoplasm of prostate', 'carcinoma prostate', 'edema pulmonary', 'lymphatic diseases', 'stenosis aortic valve', 'malignant neoplasm of breast', 'carcinoma breast', 'schizophrenia', 'diverticulitis', 'overload fluid', 'ulcer peptic', 'osteomyelitis', 'gastritis', 'bacteremia', 'failure kidney', 'sickle cell anemia', 'failure heart', 'upper respiratory infection', 'hepatitis', 'hypertension pulmonary', 'deglutition disorder', 'gout', 'thrombocytopaenia', 'hypoglycemia', 'pneumonia aspiration', 'colitis', 'diverticulosis', 'suicide attempt', 'Pneumocystis carinii pneumonia', 'hepatitis B', 'parkinson disease', 'lymphoma', 'hyperglycemia', 'encephalopathy', 'tricuspid valve insufficiency', \"Alzheimer's disease\", 'candidiasis', 'oralcandidiasis', 'neuropathy', 'kidney disease', 'fibroid tumor', 'glaucoma', 'neoplasm metastasis', 'malignant tumor of colon', 'carcinoma colon', 'ketoacidosis diabetic', 'tonic-clonic epilepsy', 'tonic-clonic seizures', 'respiratory failure', 'melanoma', 'gastroenteritis', 'malignant neoplasm of lung', 'carcinoma of lung', 'manic disorder', 'personality disorder', 'primary carcinoma of the liver cells', 'emphysema pulmonary', 'hemorrhoids', 'spasm bronchial', 'aphasia', 'obesity morbid', 'pyelonephritis', 'endocarditis', 'effusion pericardial', 'pericardial effusion body substance', 'chronic alcoholic intoxication', 'pneumothorax', 'delirium', 'neutropenia', 'hyperbilirubinemia', 'influenza', 'dependence', 'thrombus', 'cholecystitis', 'hernia hiatal', 'migraine disorders', 'pancytopenia', 'cholelithiasis', 'biliary calculus', 'tachycardia sinus', 'ileus', 'adhesion', 'delusion', 'affect labile', 'decubitus ulcer', 'addiction', 'stop smoking', 'pregnancy', 'diet', 'endometriosis', 'breast cancer', 'cancer', 'breasts', 'hair loss', 'acne', 'ovulation and ovaries', 'am i pregnant', 'pregnant', 'urine pregnancy test', 'ultrasound', 'abdomen', 'periods', 'woman', 'urine', 'accurate pregnancy tests', 'womens chat', 'addiction, recovery', 'depression', 'withdrawal', 'narcotics', 'drug addiction treatment', 'alcoholics anonymous', 'narcotics anonymous', 'addiction treatment', 'drug addiction', 'mental health', 'treatment', 'clinical trials, research, and studies', 'general community chat', 'breast', 'angry', 'health care', 'pap smear', 'female', 'angers', 'eyes', 'male', 'sex', 'about health care', 'health insurance', 'period', 'bellybutton', 'august', 'sleep', 'sleep disorders', 'recovery & post-op', 'ear', 'nose', 'after surgery', 'headaches', 'surgery', 'sinus surgery', 'after sinus surgery', 'nose  throat', 'attention disorders', 'abortion debate', 'abortion pregnancy', 'benefits of', 'abortions', 'abort', 'complications', 'medications', 'medication', 'abortion complications', 'abortion surgical', 'sexual health', 'atherosclerosis', 'body mass index', 'exercise', 'diet weight loss', 'thyroid health', 'weight loss', 'weight', 'loss', 'affect', 'tired', 'cosmetic health', 'cosmetic surgery, plastic surgery', 'shoulder pain', 'cosmetic surgery', 'plastic surgery', 'puberty', 'average', 'cream', 'skin', 'alternative', 'alternative to', 'alternative medicine', 'trauma', 'tumor', 'benign tumor', 'what is a benign tumor', 'back care', 'aconitum', 'anxiety', 'anxiety effects', 'fitness', 'pcos', 'food', 'best doctor', 'diet food', 'best diet', 'best diet food', 'best food diet', 'best diet for diabetes', 'diabetic diet', 'about diabetes', 'ibs', 'diet pills', 'atkins diet', 'b12 deficiency', 'afriend', 'acid', 'atkins diet information', 'b12 deficiency vitamin', 'anemia b12 deficiency', 'diets', 'diet  fitness', 'activity fitness', 'atkins bread', 'atkins diets', 'touch', 'neck', 'back tattoo', 'back neck', 'back and neck', 'body modification', 'diets and diet plans', 'nausea', 'symptoms', 'diet ideas', 'taking supplements', 'vitamins', 'act', 'acting out', 'banging', 'memory', 'stress', 'acting out behavior', 'depression treatment', 'treatment progress', 'grade school kids health', 'penis', 'penis growth', 'preteens', 'pediatrics', 'kids health and pediatrics', 'parenting', 'adolescence problems', 'all sides', 'parenting community', 'atm', 'about depression', 'sleep depression', 'broken hearted', 'ending a relationship', 'afford', 'angry kids', 'all kids', 'bad wife', 'all pump', 'bad kids', 'bad 4 good', 'family relationships', 'major depression', 'childhood', 'childhood depression', 'all about depression', 'anxiety and stress', 'stress anxiety', 'stressed out', 'yoga', 'appreciate your help', 'adequate', 'anal', 'ocd', 'anxiety overcome', 'anxiety forum', 'between legs', 'anxiety ocd', 'glbt relationships', 'advice depression', 'age concern', 'age women', 'grief and loss', 'treatment options', 'diagnosis', 'argument', 'alone', 'medical treatment', 'healthcare it', 'child medical treatment', 'single and struggling', 'nutrition', 'pregnancy fitness', 'pregnancy health', 'second pregnancy', 'before pregnancy', 'pregnancy fitness, health and nutrition', 'belly', 'aid', 'pregnancy problems', 'pregnancy exercise', 'single and pregnant', 'vaginal infection', 'pregnancies', 'infections', 'premature', 'stomach', 'vaginal', 'unprotected sex', 'become pregnant', 'normal period', 'depression during pregnancy', 'pregnancy depression', 'headaches during pregnancy', 'stress and headaches', 'postpartum depression', 'third trimester', 'progesterone', 'aggressive', 'headache', 'teen pregnancy', 'lump', 'breast lump', 'lactation', 'alleviate', 'infected', 'breastfeeding and nursing', 'pediatrician', 'about nursing', 'baby products', 'baby nursing', 'baby mother', 'baby forum', 'baby safe', 'baby new', 'baby care products', 'baby solid food', 'baby to sleep', 'baby 6 months', 'baby treatment', 'menstruation', 'pregnancy community chat', 'nipple', 'babies newborn', 'baby newborn', 'babies baby', 'baby month', 'newborn babies', 'antibiotic', 'babies cold', 'vomiting', 'babies vomiting', 'baby vomiting', 'back straight', 'babies eating', 'babies milk', 'feet', 'baby 12 months', 'baby 9 month', 'babies development', 'babies children', 'about children', 'babies infants', 'babies walking', 'baby children', 'infants', 'bowl movement', 'bowl', 'behavior in children', 'behavior children', 'behavior toddlers', 'behavior child', 'behavior be', 'toddlers', 'preschool', 'bone', 'preschool kids', 'tmj', 'hearing', 'apply', 'vision and eye disorders', 'neurological disorders', 'tuberculosis', 'fever', 'tb', 'mononucleosis', 'vegetarian', 'smoker', 'spleen', 'spleen pain', 'orthopedics', 'diarrhea', 'dietary', 'itchy', 'pancreas disorders', 'dental health', 'skin health', 'sinusitis', 'lung cancer', 'lung health', 'skin cancer', 'spleen symptoms', 'best health', 'best health food', 'contagious', 'contagious disease', 'vaccinated', 'measles and mumps', 'meningitis', 'sexual life', 'back ache', 'altering', 'chronic', 'edema', 'ache', 'genital warts', 'herpes', 'asymptomatic', 'oral herpes', 'genitals', 'mouth', 'herpes and genital warts', 'hiv and aids', 'high blood pressure', 'high blood pressure and hypertension', 'healthy eating', 'food and mood', 'tumors', 'abnormal cell', 'muscles', 'joints', 'inflammatory and abnormal cell disorders', 'thyroid gland', 'thyroid', 'swollen', 'fatigue', 'thyroid underactive', 'intestinal disorders', 'lupus', 'viral meningitis', 'cerebral palsy', 'memory loss', 'dizziness', 'bacteria', 'seizures', 'diseases', 'encephalitis', 'swelling', 'infertility', 'glands', 'angle', 'lumps', 'endocrine disorders', 'adhd or', 'bipolar', 'cystic fibrosis', 'anticipation', 'polyps', 'ask health question', 'sleep problem', 'air breathe', 'air health', 'recovery', 'diagnostic techniques, treatments', 'menopause', 'fibromyalgia', 'foot disorders', 'hair loss, hair disorders', 'hair', 'smell', 'pills', 'about hair loss', 'about fish', 'bad smell', 'all wash', 'genetic disorders', 'heart disease', 'heart attack', 'heart health', 'heart disease and heart attack', 'flu', 'cold and flu', 'cold, flu and viral infections', 'appendix and appendicitis', 'back pain', 'blood disorders', 'bladder', 'small intestine', 'intestine', 'gall bladder surgery', 'intestine disorders', 'bile duct disorders', 'rib cage', 'hear', 'intestines', 'broken bones', 'treatments', 'advisable', 'muscle', 'cerebral palsy treatment', 'baby cerebral palsy', 'gastro esophageal reflux disease', 'surgical procedure', 'keyhole surgery', 'stomach pains', 'benefit from', 'stomach acid', 'endoscopy', 'rehabilitation', 'accelerator', 'automatic', 'ability', 'sense', 'about cerebral palsy', 'best muscles', 'chronic fatigue syndrome', 'chronic fatigue', 'about masturbation', 'infectious', 'axis', 'eating disorders', 'cardio health', 'liver health', 'disorders and conditions', 'armpit', 'armpit female', 'celiac disease', 'stomach cancer', 'abdominal pain', 'stomach pain', 'blood tests', 'gastric', 'liver cancer', 'liver', 'liver disease', 'administer', 'cancer advice', 'before surgery', 'analysis', 'alpha', 'leukemia', 'radiation therapy', 'appears to be', 'chemotherapy', 'cancer cells', 'radiation', 'prostate cancer', 'prostate', 'ask the doctor', 'prostatectomy', 'beverages', 'caffeine', 'procedure', 'head', 'whipple procedure', 'cancer diagnosis', 'cancer tumor', 'pancreatic cancer', 'left arm', 'arm', 'back inflammation', 'pain medication', 'after cancer', 'cancer help', 'prostate health', 'testicular cancer', 'thyroid cancer', 'sexual desire', 'affect memory', 'kidney', 'bad smells', 'als', 'bad body odor', 'bath seat', 'bad odor', 'bath a', 'als, lou gehrig disease', 'pain management', 'birth control', 'birth control - men', 'sexual problems', 'bathroom idea', 'mens chat', 'antidepressant', 'baclofen', 'antidepressant citalopram', 'anxiety disability', 'anxiety medication', 'anxiety help', 'erectile dysfunction', 'lack of sensation', 'testosterone', 'abnormally', 'sex drive', 'orgasm', 'ulcer', 'chemo', 'radiation therapy for cancer', 'testicles', 'brain cancer', 'bone cancer', 'biopsy', 'night sweats', 'right arm', 'migrain', 'mental conditions', 'autism signs', 'autism', 'behavioral disorder', 'early intervention', 'alternating', 'behaviors', 'autism symptoms of', 'autistic children symptoms', 'autism symptoms children', 'autism and language', 'autism communication', 'behaviour children', 'behaviour problems', 'alphabet', 'autism children', 'adults autism', 'autism adults', 'all children', 'autism talk', 'autism work', 'autism and', 'age group', 'add', 'adhd', 'concerta', 'adhd add', 'add and adhd', 'advice parents', 'adhd parents', 'adhd doctor', 'advice love', 'adhd odd', 'add  and  adhd', 'add/adhd', 'dyslexia', 'smoking pot', 'smoking', 'abusive', 'bipolar help', 'bipolar relationships', 'anger help', 'anxiety bipolar disorder', 'about bipolar disorder', 'anxiety and bipolar disorder', 'anxiety disorder', 'anger disorder', 'anxiety anger', 'abruptly', 'anger outbursts', 'anger and bipolar disorder']\n",
      "2573 unique stemmed words ['!', '%', '&', \"'\", \"''\", \"'d\", \"'ll\", \"'m\", \"'re\", \"'s\", \"'ve\", '(', ')', '*******', ',', '-', '--', '-39', '-and', '.', '/', '0', '03', '07', '1', '1-2', '1-5', '1.', '10', '100', '107', '11', '110', '115', '12', '12.', '12/03/2012', '14', '140lbs', '15', '150', '16', '16.', '165', '17', '175', '18', '18.', '180', '1800', '18yrs', '19', '19.', '19weeks', '1:41', '1st', '2', '2-', '2-3x', '2-week', '2.', '20', '20-30', '200', '2008', '2010', '2012', '2012.', '2013', '2014', '2014.', '2015.', '2016', '2017', '20min', '21', '22', '23', '24', '249lbs', '25', '26', '27', '27/nl', '28', '29', '2and', '2diabet', '2nd', '2year', '3', '3-4', '3.', '30', '300', '300calorie', '31', '32', '33', '34ff', '35', '36', '36c', '37and', '38', '3d', '3rd', '3st', '4', '40', '40k', '41', '41-', '44.', '4months', '4th', '5', '500mg', '54', '54.', '55', '5\\\\', '5ft', '5in', '6', '6.', '60', '60lbs', '62', '65yrs', '6th', '7', '7-8', '7/nl', '8', '82', '9', '98', ':', ';', '<', '>', '@', '\\\\', '``', 'a', 'a.', 'ab/ag', 'abdom', 'abdomin', 'abl', 'abnorm', 'abort', 'about', 'abov', 'abrupt', 'abs', 'abscess', 'absolv', 'abud', 'abus', 'acc', 'acceiv', 'accel', 'accid', 'accord', 'ach', 'achalas', 'acid', 'acn', 'aconit', 'act', 'acupunct', 'acut', 'ad', 'adam', 'adamond', 'add/adhd', 'addit', 'address', 'adenocarcinom', 'adhd/ad', 'admin', 'adolesc', 'adult', 'adv', 'advers', 'advs', 'afect', 'affair', 'affect', 'afford', 'afgh', 'afp', 'afraid', 'afriend', 'aft', 'afterward', 'ag', 'ag/ab', 'again', 'aggrav', 'aggress', 'agit', 'ago', 'agony', 'agr', 'agress', 'air', 'al', 'alcohol', 'all.', 'allergy', 'allow', 'almost', 'almostal', 'alon', 'along', 'alot', 'aloud', 'alpha-fetoprotein', 'alphabet', 'already', 'also', 'alsp', 'altern', 'although', 'alway', 'am', 'ambidext', 'amount', 'an', 'anaem', 'analys', 'anatom', 'and', 'and/or', 'anem', 'ang', 'angin', 'angl', 'angry', 'anim', 'ankl', 'ankylos', 'annivers', 'annount', 'anorex', 'anosm', 'anoth', 'answ', 'antery', 'antibiot', 'antibody', 'anticip', 'antidepress', 'antig', 'anxy', 'any', 'anym', 'anyon', 'anyth', 'anyway', 'apart', 'aphag', 'apolog', 'appear', 'appendectom', 'appendicit', 'appendix', 'appetit', 'appl', 'apply', 'appoint', 'apprecy', 'approach', 'approx', 'appt', 'april', 'aprox', 'apyrex', 'ar', 'are', 'area', 'argu', 'aripip', 'arm', 'armpit', 'around', 'arthralg', 'arthrit', 'artic', 'as', 'asap', 'ascit', 'ask', 'ass', 'assault', 'assessment/plan', 'assign', 'assocy', 'assum', 'asterix', 'asthen', 'asymptom', 'at', 'atax', 'atkin', 'atleast', 'atm', 'attack', 'attemp', 'attempt', 'atyp', 'audit', 'aug', 'august', 'aur', 'aut', 'av', 'avocado', 'avoid', 'aw', 'await', 'awak', 'away', 'b12', 'b4', 'baby', 'back', 'baclof', 'bact', 'bacter', 'bactrim', 'bad', 'bad\\\\', 'bag', 'bal', 'bald', 'band', 'bang', 'bant', 'bar', 'bark', 'bas', 'basebal', 'bath', 'bathroom', 'battery', 'be', 'bear', 'beat', 'becam', 'becau', 'becaus', 'becom', 'bed', 'bedrid', 'been', 'bef', 'beg', 'begin', 'begun', 'behav', 'behavior/mood/feelings', 'behavy', 'behind', 'bein', 'being', 'bel', 'belev', 'believ', 'bellybutton', 'below', 'belt', 'benea', 'benefit', 'benign', 'best', 'bet', 'between', 'bf', 'bifid', 'big', 'biggest', 'bik', 'bil', 'bing', 'biopsy', 'bipol', 'bir', 'bit', 'black', 'blackout', 'blad', 'blam', 'blanch', 'blee', 'blo', 'block', 'blood', 'blotch', 'blur', 'blurry', 'boderlin', 'body', 'body/muscle', 'bodybuild', 'boil', 'bomb', 'bon', 'book', 'bor', 'born', 'both', 'bottom', 'bound', 'bowel', 'boy', 'boyfriend', 'bra', 'bradycard', 'bradykines', 'brain', 'brea', 'break', 'breakthrough', 'breast', 'breastfee', 'breastff', 'breastmilk', 'breath', 'breath-holding', 'breech', 'brib', 'bright', 'bring', 'brok', 'broth', 'brought', 'brown', 'bruit', 'brung', 'bubbl', 'buddy', 'build', 'bulim', 'bum', 'bump', 'burn', 'burn-out', 'burnt', 'burst', 'bus', 'busy', 'but', 'button', 'by', 'c', 'ca', 'cachex', 'caffein', 'cag', 'cal', 'calc', 'calf', 'calib', 'californ', 'calm', 'cam', 'can', 'cant', 'cap', 'caps', 'car', 'carb', 'carbohydr', 'carcinom', 'cardio', 'cardiomega', 'cardiovascul', 'carrot', 'carry', 'cartil', 'cartoon', 'cas', 'cast', 'cat', 'cataton', 'catch', 'caucas', 'caught', 'caus', 'cbc', 'cel', 'celiac', 'cellulit', 'cemo', 'cent', 'cerebr', 'certain', 'cerv', 'cf', 'chair', 'chalaz', 'chang', 'chant', 'char', 'charg', 'charleyhors', 'che', 'check', 'cheek', 'chemo', 'chemotherapy', 'chest', 'chi', 'chick', 'chil', 'child', 'childr', 'chiropract', 'chlymedia', 'chocol', 'chok', 'chrincic', 'chronic', 'cial', 'cic', 'circumf', 'cirrhos', 'citalopram', 'claim', 'clairvoy', 'clammy', 'class', 'claud', 'clavical/collarbone', 'cle', 'cleanup', 'clear', 'cli', 'clindamycin', 'clon', 'clos', 'clot', 'cloth', 'club', 'clumsy', 'clutch', 'cm', 'coach', 'codin', 'coel', 'coeliec', 'cognit', 'coincid', 'col', 'cold', 'colit', 'collect', 'colleg', 'collegy', 'colloid', 'colo', 'colonoscop', 'columb', 'com', 'combin', 'combo', 'common', 'comp', 'compel', 'complain', 'complaint', 'complet', 'comply', 'compound', 'compress', 'comput', 'conceiv', 'concern', 'concert', 'conclud', 'condit', 'condom', 'conduc', 'confirm', 'confus', 'connect', 'cons', 'conscy', 'consid', 'consist', 'const', 'constip', 'construct', 'consult', 'consum', 'cont', 'contact', 'contagy', 'contimpl', 'continu', 'continy', 'contribut', 'control', 'controvers', 'controversy', 'convers', 'convert', 'convint', 'cooky', 'coordin', 'cop', 'cor', 'corn', 'cos', 'cost', 'costudy', 'cough', 'could', 'couldnt', 'counls', 'counsel', 'count', 'country', 'coupl', 'cours', 'cov', 'cp', 'crackl', 'cramp', 'crap', 'crash', 'crav', 'crawl', 'crazy', 'cream', 'cred', 'cri', 'crohn', 'crook', 'cross', 'crowd', 'crush/to', 'crutch', 'cry', 'ct', 'ct.', 'cts', 'cub', 'cult', 'cum', 'cur', 'curvature/siz', 'cushingoid', 'custody', 'cut', 'cuz', 'cyanos', 'cyst', 'dad', 'dai', 'dairy', 'dam', 'dang', 'dant', 'dark', 'dat', 'daught', 'day', 'dayc', 'dea', 'dead', 'deadlin', 'deal', 'debilit', 'dec', 'decay', 'decid', 'decompens', 'decreas', 'deep', 'deficy', 'definit', 'degr', 'degrad', 'delh', 'demonst', 'demot', 'dent', 'dentit', 'deny', 'depress', 'desir', 'detail', 'detect', 'dev', 'devast', 'develop', 'dexamethason', 'diabet', 'diagnos', 'diagnost', 'diagonos', 'diarrhe', 'did', 'didnt', 'dieas', 'died', 'diet', 'diff', 'difficul', 'difficult', 'digest', 'digit', 'din', 'dipleg', 'direct', 'dis', 'disappear', 'discharg', 'disciplin', 'disclos', 'discomfort', 'discontinu', 'discret', 'discut', 'diseas', 'disease-', 'disequilibr', 'disgust', 'dish', 'dishwash', 'disobedy', 'disord', 'dissapear', 'dist', 'distend', 'distract', 'distress', 'disturb', 'divers', 'dizzy', 'dnt', 'do', 'doc', 'doct', 'doe', 'doesnt', 'dog', 'doh', 'doing', 'domin', 'don', 'donresp', 'dont', 'dos', 'dosnt', 'down', 'doz', 'dr', 'dr.', 'drag', 'dram', 'drama', 'drank', 'dream', 'drink', 'driv', 'dron', 'drool', 'drowsy', 'drug', 'dry', 'duc', 'due', 'dul', 'dump', 'dur', 'dwindl', 'dyer', 'dying', 'dynam', 'dysarthr', 'dysdiadochokines', 'dysesthes', 'dysfunct', 'dyslex', 'dyspareun', 'dyspne', 'dysur', 'e.', 'each', 'ear', 'earliest', 'eas', 'easy', 'eat', 'ebv', 'ecceiv', 'ecchymos', 'eczem', 'edg', 'educ', 'effect', 'effog', 'effort', 'eg', 'egophony', 'eith', 'ejac', 'eject', 'el', 'elect', 'electrolyt', 'elev', 'elimin', 'els', 'embarrass', 'emerg', 'emg', 'emot', 'emphysem', 'employ', 'end', 'endo', 'endometrios', 'endoscop', 'energy', 'eng', 'engl', 'enh', 'enjoy', 'enlarg', 'enough', 'enquiry', 'ens', 'ent', 'entir', 'entrepr', 'enures', 'environ', 'eosinophil', 'epididym', 'epidiym', 'episod', 'epithel', 'epithelios', 'eq', 'er', 'erect', 'erectil', 'erosive/ulcerativ', 'erythem', 'espec', 'estrog', 'et', 'etc', 'etc.', 'ev', 'every', 'every-time', 'everybody', 'everyday', 'everyth', 'everytim', 'eveyon', 'ex', 'exact', 'exam', 'examin', 'exampl', 'exc', 'exceiv', 'excess', 'excit', 'excrucy', 'excruty', 'exerc', 'exert', 'exhaust', 'expect', 'expert', 'expery', 'expl', 'explain', 'extend', 'extr', 'extract', 'extrapyramid', 'extrem', 'ey', 'eyebrow', 'eyedrop', 'eyelash', 'eziekiel', 'fac', 'fact', 'facy', 'fail', 'faint', 'fal', 'fals', 'fam', 'famy', 'fant', 'far', 'fast', 'fat', 'fath', 'fatig', 'fatigu', 'fatty', 'fault', 'fear', 'feat', 'feb.', 'fec', 'fecalur', 'fee', 'feel', 'feet', 'felt', 'fem', 'fet', 'fev', 'few', 'fiant', 'fibromyalg', 'fibul', 'fig', 'fight', 'fil', 'filt', 'fin', 'find', 'fing', 'fingertip', 'firend', 'first', 'firsty', 'fish', 'fit', 'fiv', 'fix', 'flap', 'flar', 'flash', 'flat', 'flax/olive', 'flex', 'flomax', 'floppy', 'flot', 'flu', 'fluid', 'flung', 'flush', 'fnac', 'foc', 'follow', 'food', 'foot', 'for', 'forget', 'forgot', 'form', 'forward', 'found', 'four', 'fract', 'frail', 'fre', 'freak', 'free', 'freez', 'fremit', 'frequ', 'frict', 'friday', 'friend', 'frm', 'from', 'front', 'frothy', 'frust', 'ful', 'full-time', 'fun', 'fundoply', 'funny', 'furth', 'fuss', 'fut', 'gag', 'gain', 'gait', 'gal', 'gallon', 'gasp', 'gast', 'gatorad', 'gav', 'gay', 'gdhawan1981', 'gear', 'gel', 'gen', 'gend', 'genit', 'gentl', 'get', 'ghonorre', 'giddy', 'girl', 'girlfriend', 'giv', 'gland', 'glass', 'glutun', 'gmail', 'go', 'goa', 'goe', 'going', 'goit', 'golf', 'gon', 'good', 'got', 'gp', 'grad', 'gradu', 'grain', 'gran', 'grasp', 'grass', 'grat', 'grav', 'gravid', 'gre', 'green', 'grocery', 'groggy', 'gross', 'ground', 'group', 'grow', 'grown', 'guaiac', 'guid', 'guk', 'gurgl', 'guss', 'guy', 'gym', 'gyno', 'h', 'habit', 'hack', 'had', 'haemoptys', 'haemorrh', 'hair', 'half', 'hallucin', 'hand', 'handl', 'hap', 'happy', 'hard', 'hardhip', 'harm', 'has', 'hat', 'hav', 'hcc', 'he', 'he\\\\', 'hea', 'head', 'headach', 'heal', 'healthy', 'hear', 'heard', 'heart', 'heartburn', 'heavy', 'heberd', 'heel', 'height', 'hej', 'held', 'hello', 'hello-', 'help', 'hem', 'hematochez', 'hematocrit', 'hematur', 'hemianops', 'hemipleg', 'hemodynam', 'hent', 'hepatomega', 'hepatosplenomega', 'her', 'herp', 'herself', 'hes', 'hesit', 'hey', 'hi', 'high', 'high-pressure', 'hik', 'him', 'himself', 'hirsut', 'his', 'hiss', 'hist', 'histopatholog', 'hit', 'hiv', 'hmo', 'hoard', 'hoars', 'hol', 'hold', 'holiday', 'hom', 'homeless', 'homeopath', 'hometown', 'homicid', 'homonym', 'hon', 'honest', 'honeymoon', 'hook', 'hop', 'hopeless', 'hormon', 'horr', 'hospit', 'hospital-the', 'hospital/health', 'hot', 'hot/feverish', 'hour', 'hoursâ\\x80¦doctors', 'hous', 'how', 'howev', 'hpv', 'hrt', 'hs', 'hsv1', 'hug', 'hung', 'hungry', 'hunt', 'hurt', 'husband', 'hydropneumothorax', 'hyoid', 'hyperact', 'hyperacus', 'hypercapn', 'hyperchromas', 'hyperemes', 'hyperhidros', 'hyperintens', 'hyperkalem', 'hypersomn', 'hypersomnol', 'hyperthyroid', 'hyperton', 'hypertroph', 'hyperventil', 'hypesthes', 'hypo', 'hypoalbuminem', 'hypocalcem', 'hypoglycaem', 'hypoglycem', 'hypokalem', 'hypokines', 'hypometabol', 'hyponatrem', 'hypoproteinem', 'hypotend', 'hypotherm', 'hypoton', 'hypoxem', 'i', 'iam', 'ic', 'icter', 'ide', 'idea', 'ident', 'idk', 'if', 'if=n', 'ig', 'igm', 'il', 'ill.', 'illeg', 'illn', 'im', 'imagin', 'immobl', 'immod', 'immun', 'immunolog', 'impact', 'impair', 'imposs', 'impot', 'impress', 'improv', 'in', 'inappropry', 'inbetween', 'inch', 'incid', 'includ', 'incoh', 'incontin', 'increas', 'ind', 'index', 'indiff', 'inf', 'infect', 'infections-', 'infenct', 'infilt', 'inflam', 'info', 'inform', 'ing', 'inguin', 'init', 'inject', 'injury', 'inop', 'inr', 'ins', 'insert', 'insid', 'insight', 'inst', 'instead', 'instruct', 'insult', 'intact', 'intellig', 'intens', 'interact', 'intercours', 'interest', 'intermenst', 'intermit', 'interrupt', 'interv', 'intestin', 'into', 'intol', 'intox', 'introduc', 'invas', 'invert', 'involv', 'iodin', 'iraq', 'iron', 'irregul', 'irrep', 'irrit', 'is', 'isnt', 'isol', 'issu', 'isthm', 'it', 'it\\\\', 'ita', 'iud', 'iv', 'iwa', 'jab', 'jail', 'janu', 'jaw', 'jeal', 'jeopard', 'jit', 'job', 'joint', 'jugul', 'juic', 'july', 'jumbl', 'jun', 'junk', 'jus', 'just', 'k2', 'k3', 'kar', 'keep', 'kemo', 'kept', 'kfc', 'kg', 'kick', 'kid', 'kidney', 'kind', 'kiss', 'kne', 'knew', 'knot', 'know', 'knowledg', 'known', 'lab', 'lack', 'laid', 'lam', 'lansoprazol', 'larg', 'large-for-dates', 'larry', 'lasik', 'last', 'lat', 'latley', 'laud', 'laugh', 'laught', 'lay', 'lb', 'lbs', 'lead', 'leak', 'learn', 'least', 'leav', 'left', 'leg', 'legitim', 'lemon/celery/apple', 'lentil', 'les', 'less', 'let', 'lethargy', 'leukocytos', 'level', 'levitr', 'levothyroxin', 'lied', 'lif', 'lift', 'light', 'lighthead', 'lik', 'limb', 'limit', 'lin', 'ling', 'lip', 'lipomo', 'list', 'lit', 'littl', 'liv', 'lo', 'lob', 'loc', 'lock', 'log', 'lol', 'long', 'look', 'loos', 'los', 'loss', 'lost', 'lot', 'loud', 'lov', 'low', 'lump', 'lumpy', 'lunch', 'lung', 'lup', 'lying', 'lymph', 'm.', 'mac', 'machin', 'macrocytos', 'mad', 'mag', 'magn', 'maintain', 'maj', 'mak', 'mal', 'mala', 'malign', 'malocclud', 'man', 'mand', 'many', 'mar/apr', 'march', 'mark', 'marrig', 'marrow', 'marry', 'masculin', 'mass', 'masturb', 'mat', 'materil', 'math', 'maxillio', 'may', 'mayb', 'mba', 'mcburney', 'mcv', 'me', 'meal', 'mean', 'meanwhil', 'meas', 'meat', 'med', 'mediastin', 'medical-abortion', 'medicin', 'medit', 'meet', 'melingt', 'mem', 'memb', 'membr', 'men', 'meningit', 'menopaus', 'menstru', 'ment', 'menton', 'met', 'metaplas', 'metast', 'metformin', 'methados', 'mg', 'mgg', 'microscop', 'microwav', 'micturit', 'middl', 'might', 'migrain', 'mil', 'mild', 'milk', 'milky', 'mily', 'min', 'mind', 'minim', 'minut', 'mir', 'misdiagnos', 'misery', 'misinform', 'miss', 'mistak', 'misunderstand', 'mixt', 'mm', 'moan', 'moch', 'mol', 'mom', 'mon', 'money', 'monoclon', 'monocytos', 'monolid', 'month', 'month-', 'mood', 'moody', 'mor', 'moreov', 'morn', 'morphin', 'most', 'mot', 'moth', 'mother-in-law', 'motor-bike', 'mou', 'mountain', 'mov', 'mri', 'mth', 'muc', 'much', 'muffl', 'multipl', 'multivitain', 'mum', 'mump', 'murm', 'murph', 'musc', 'must', 'my', 'myalg', 'mydrias', 'myelom', 'myoclon', 'myself', 'myslef', 'n', \"n't\", 'na', 'nag', 'nail', 'nail/', 'nail/rod', 'nam', 'naprox', 'narcot', 'nas', 'nat', 'naus', 'nause', 'nausy', 'navel', 'ne', 'near', 'necess', 'neck', 'nee', 'neg', 'negative/antibody', 'negative/nonreactiv', 'negative_smiley', 'neighb', 'neolog', 'neoplast', 'nephew', 'nerv', 'neurosurgeon', 'neutrophil', 'nev', 'new', 'newest', 'next', 'ngat', 'nic', 'night', 'nightm', 'nineteen', 'nippl', 'nit', 'nl', 'no', 'no-carb', 'nod', 'nodul', 'noisy', 'non', 'non-billable', 'non-productive', 'non-un', 'nonsmok', 'nor', 'nordet', 'norm', 'normal', 'nortriptylin', 'nos', 'nose/throat', 'not', 'noth', 'nov', 'now', 'nowh', 'np', 'nsaid', 'nuclear', 'numb', 'nurs', 'nut', 'ny', 'o', 'oatm', 'observ', 'obvy', 'occ', 'occas', 'occupy', 'ocd', 'od', 'oesphagit', 'of', 'ofcours', 'off', 'oflipomo', 'oft', 'oh', 'oil', 'ok', 'okay', 'old', 'oligur', 'omeg', 'on', 'oncologyst', 'onlin', 'ont', 'op', 'opin', 'opportun', 'opposit', 'opt', 'or', 'orangey', 'ord', 'org', 'orgasm', 'origin', 'ortho', 'orthopne', 'orthostas', 'ory', 'otc', 'oth', 'otherw', 'our', 'out', 'outbreak', 'outburst', 'outcom', 'outsid', 'outward', 'ov', 'overact', 'overcom', 'overweight', 'overwhelm', 'own', 'oxycotin', 'p.', 'p24', 'pag', 'pain', 'painkil', 'pair', 'pal', 'palpit', 'palsy', 'pan', 'pancr', 'pancrea', 'pancreatit', 'panel', 'panick', 'pansinusit', 'pansystol', 'pap', 'papil', 'par', 'paradox', 'paralys', 'paranas', 'paranoid', 'parapares', 'parathyroid', 'pares', 'paresthes', 'parson', 'part', 'partic', 'particip', 'particul', 'partn', 'pass', 'past', 'patholog', 'pattern', 'paty', 'pay', 'pco', 'pcr', 'pea', 'pect', 'pedy', 'pee', 'pelv', 'pen', 'peopl', 'per', 'percocet', 'perfect', 'perform', 'pericard', 'period', 'periorbit', 'person', 'pertain', 'phas', 'phentermin', 'pheumon', 'phonophob', 'photophob', 'photops', 'phys', 'physiotherap', 'pick', 'piec', 'pierc', 'pil', 'pin-point', 'pinyin', 'pit', 'pitch', 'pl', 'plac', 'plant', 'plaus', 'play', 'pleas', 'pleurit', 'pls', 'plu', 'plz', 'pneumatour', 'pock', 'point', 'pointless', 'pointy', 'polyc', 'polydyps', 'polymyalg', 'polyp', 'polyur', 'pool', 'poop', 'poor', 'pop', 'porch', 'pork', 'port', 'posit', 'positive_smiley', 'poss', 'post', 'postery', 'pot', 'potato', 'potty', 'pow', 'powd', 'pract', 'pre-diabetic', 'pre-nup', 'prec', 'prednison', 'predomin', 'preform', 'pregabalin', 'pregn', 'pren', 'pres', 'prescrib', 'presrib', 'press', 'pretty', 'prev', 'prevy', 'pri', 'primigravid', 'priscrib', 'prob', 'probiot', 'problem', 'proc', 'process', 'procrastin', 'prodrom', 'produc', 'profess', 'program', 'progress', 'prohibit', 'projectil', 'prolong', 'prom', 'promin', 'pron', 'proof', 'prop', 'prost', 'prostatectom', 'protein', 'proteinem', 'proty', 'prov', 'provid', 'prp', 'prurit', 'pssible', 'psychy', 'psycos', 'pt', 'ptb', 'puberty', 'pul', 'puls', 'pump', 'pun', 'punch', 'pupil', 'pur', 'purchas', 'pursu', 'push', 'pust', 'put', 'q', 'qt', 'qual', 'quest', 'quino', 'quit', 'r', 'r.', 'rad', 'radioact', 'rady', 'rai', 'rais', 'ral', 'rambl', 'ran', 'random', 'rapid', 'rar', 'rath', 'raw', 're', 're-appear', 'rea', 'react', 'read', 'real', 'rear', 'reason', 'reass', 'rebuild', 'rec', 'receiv', 'recharg', 'recogn', 'recommend', 'recov', 'rect', 'recur', 'red', 'reduc', 'reductil', 'refer', 'refil', 'reflect', 'reflux', 'refus', 'reg', 'regul', 'regurgit', 'rel', 'relaps', 'relax', 'releas', 'relev', 'reliev', 'relig', 'religy', 'remain', 'remedy', 'rememb', 'remid', 'remind', 'remov', 'ren', 'reocc', 'reoccur', 'rep', 'replac', 'reply', 'reput', 'request', 'requir', 'res', 'rescu', 'research', 'resist', 'resolv', 'resouc', 'respir', 'respons', 'responsibil', 'rest', 'restart', 'restless', 'result', 'ret', 'retard', 'retch', 'retropuls', 'return', 'rev', 'revers', 'reward', 'rhd', 'rheumatolog', 'rhinorrhe', 'rhonch', 'rhythm', 'rib', 'ric', 'rice-lik', 'rid', 'rig', 'right', 'ring', 'risk', 'road', 'roberto', 'rod', 'rol', 'roller-coast', 'roman', 'room', 'rot', 'rough', 'routin', 'rub', 'rul', 'run', 'rupt', 'rx', 's', 'sad', 'saf', 'said', 'sal', 'sam', 'sampl', 'saturday', 'saty', 'sav', 'saw', 'say', 'scal', 'scalp', 'scan', 'scanty', 'scar', 'schizophrenia', 'school', 'sciatic', 'scleral', 'scolios', 'scoot', 'scratch', 'scratched', 'screams', 'seafood', 'sear', 'seat', 'second', 'secret', 'sed', 'see', 'seek', 'seem', 'seen', 'seg', 'seiz', 'self-pay', 'sem', 'senco', 'send', 'sens', 'sensit', 'sent', 'septemb', 'sery', 'sess', 'sesss', 'settl', 'sev', 'sex', 'shaft', 'shaky', 'shallow', 'shap', 'shar', 'shard', 'sharp', 'she', 'shed', 'shift', 'ship', 'shirt', 'shock', 'shoot', 'shop', 'shoplift', 'short', 'shot', 'should', 'shout', 'show', 'shrink', 'sick', 'sid', 'sign', 'sil', 'simil', 'simpl', 'simult', 'sin', 'sinemet', 'singl', 'sint', 'sinus', 'sist', 'sit', 'situ', 'situt', 'six', 'sixteen', 'siz', 'skin', 'skip', 'skyp', 'slap', 'slash', 'sleep', 'sleep/pain', 'sleepless', 'sleepy', 'slight', 'slightest', 'slow', 'slug', 'slur', 'smack', 'smal', 'smear', 'smel', 'smil', 'smok', 'sms', 'snap', 'sneez', 'sniffl', 'snor', 'snuffl', 'so', 'soak', 'socy', 'sod', 'soft', 'solid', 'solit', 'solv', 'som', 'someon', 'someth', 'sometim', 'somewh', 'somth', 'son', 'soon', 'sophom', 'sor', 'sort', 'sound', 'sourc', 'spac', 'spasm', 'spast', 'speak', 'spec', 'spee', 'speech', 'spel', 'spent', 'spin', 'spinach', 'spironolacton', 'spit', 'spleen', 'splenic', 'splenomegaly', 'split', 'spliting', 'spn', 'spondylit', 'spont', 'sport', 'spot', 'sprain', 'spread', 'spur', 'sput', 'st', 'stabl', 'stag', 'stahl', 'stain', 'stair', 'stand', 'standard', 'start', 'start/feel', 'stat', 'stay', 'std', 'ste', 'steel', 'stem', 'step', 'stepmom', 'stiff', 'stil', 'sting', 'sting-like', 'stint', 'stir', 'stol', 'stomach', 'ston', 'stong', 'stool', 'stop', 'straight', 'stranding', 'strands', 'strange', 'straps', 'stream', 'strenuous', 'stress', 'stressed', 'stressing', 'stretch', 'stretching', 'strick', 'stridor', 'strike', 'strikes', 'strip', 'strong', 'stronger', 'strongly', 'structure', 'struggles', 'stubberin', 'stuck', 'stud', 'study', 'stuff', 'stuffy', 'stump', 'stun', 'stup', 'stupid', 'sty', 'styl', 'subcut', 'subject', 'subsequ', 'substitut', 'subtl', 'success', 'such', 'sud', 'sudarsh', 'suff', 'sug', 'sugest', 'suggest', 'suicid', 'sunday', 'superimposit', 'suppl', 'supplements/vitamin', 'support', 'suppos', 'sur', 'surfac', 'surg', 'surgeon', 'surgery', 'surgical-abortion', 'suspect', 'swallow', 'swap', 'swe', 'sweet', 'swel', 'swing', 'swol', 'symptom', 'symtom', 'syncop', 'syndrom', 'syrup', 'system', 'systol', 't', 't1', 't1n0m0', 'ta', 'tab', 'tabl', 'tablet', 'tachypne', 'tak', 'talk', 'tast', 'tattoo', 'taught', 'tb', 'tea', 'teach', 'tee', 'teen', 'teh', 'tel', 'telog', 'temperature-associated', 'ten', 'tend', 'tenesm', 'tens', 'term', 'terr', 'test', 'testic', 'testosteron', 'thalidomide/pomalyst', 'than', 'thank', 'thanksg', 'thankyou', 'thansk', 'that', 'the', 'their', 'them', 'themselv', 'then', 'thensev', 'ther', 'therap', 'therapy', 'theref', 'thes', 'they', 'thi', 'thick', 'thigh', 'thin', 'thing', 'think', 'third', 'tho', 'thorough', 'thos', 'though', 'thought', 'threats', 'three', 'throat', 'throbbing', 'thrombocites', 'through', 'throughout', 'throught', 'throw', 'thrush', 'thursday', 'thx', 'thyroid', 'thyroidectom', 'ti', 'tib', 'tick', 'tie', 'tight', 'til', 'tim', 'timesheet', 'tingl', 'tinnit', 'tiny', 'tir', 'tissu', 'titub', 'tjm', 'tmjd', 'to', 'tod', 'today', 'toe', 'togeath', 'togeth', 'toilet', 'told', 'tomorrow', 'ton', 'tonight', 'too', 'took', 'toothach', 'top', 'tors', 'tot', 'touch', 'toward', 'trache', 'tradit', 'trail', 'train', 'transaminit', 'transluc', 'transmit', 'transpl', 'transsex', 'trap', 'traum', 'travel', 'tre', 'trea', 'trem', 'tri', 'trick', 'tricyc', 'triglecerid', 'trim', 'trisom', 'troubl', 'trust', 'try', 'tubalig', 'tum', 'tummy', 'turkey', 'turn', 'tut', 'tv', 'twist', 'twitch', 'two', 'typ', 'u', 'ulc', 'ultrasound', 'un', 'unc', 'uncertain', 'uncomfort', 'unconscy', 'uncontrol', 'uncoordin', 'und', 'underact', 'undergo', 'undergon', 'understand', 'underw', 'underweight', 'undevelop', 'unfit', 'unhappy', 'unil', 'unit', 'univers', 'unrespond', 'unst', 'unsteady', 'until', 'unus', 'unwel', 'unworthy', 'up', 'upd', 'upon', 'upright', 'upset', 'upward', 'ure', 'urg', 'urin', 'urinom', 'urolog', 'us', 'useless', 'v', 'vac', 'vaccin', 'vagin', 'vain', 'vary', 'vasectom', 'veg', 'veget', 'vein', 'veloc', 'ven', 'vent', 'verb', 'vertigo', 'very', 'viabl', 'viagr', 'vib', 'video', 'view', 'vir', 'vis', 'visit', 'vitamin', 'voic', 'volt', 'vomit', 'waight', 'wait', 'wak', 'wal', 'walk', 'walnut', 'wan', 'want', 'warm', 'was', 'wash', 'wat', 'watch', 'water/electic', 'wav', 'way', 'wbc', 'we', 'weak', 'wear', 'web', 'websit', 'wed', 'wednesday', 'week', 'weepy', 'weigh', 'weight', 'weird', 'wel', 'welcom', 'well-needed', 'welt', 'wen', 'went', 'wer', 'werid', 'what', 'wheelchair', 'wheez', 'when', 'whenev', 'wher', 'wheth', 'which', 'whil', 'whilst', 'whit', 'who', 'whol', 'whom', 'why', 'wich', 'wid', 'wif', 'wil', 'wild', 'win', 'window', 'windpip', 'wip', 'wippl', 'wisdom', 'wish', 'wit', 'with', 'withdraw', 'withdrawl', 'withdrawn', 'within', 'without', 'wiv', 'wk', 'wo', 'wok', 'wom', \"won\\\\'t\", 'wond', 'wont', 'woory', 'wor', 'word', 'work', 'workout', 'world', 'worry', 'wors', 'worst', 'worthless', 'would', 'wound', 'wreck', 'wrist', 'writ', 'wrong', 'x-ray', 'xray', 'yard', 'ye', 'year', 'yeast', 'yel', 'yellow', 'yellowy', 'yestday', 'yesterday', 'yet', 'yo', 'yog', 'you', 'young', 'youtub', 'yr']\n"
     ]
    }
   ],
   "source": [
    "words = []\n",
    "classes = []\n",
    "documents = []\n",
    "ignore_words = ['?']\n",
    "# loop through each sentence in our intents patterns\n",
    "for intent in intents['intents']:\n",
    "    for pattern in intent['patterns']:\n",
    "        # tokenize each word in the sentence\n",
    "        w = nltk.word_tokenize(pattern)\n",
    "        # add to our words list\n",
    "        words.extend(w)\n",
    "        # add to documents in our corpus\n",
    "        documents.append((w, intent['tag']))\n",
    "        # add to our classes list\n",
    "        if intent['tag'] not in classes:\n",
    "            classes.append(intent['tag'])\n",
    "\n",
    "# stem and lower each word and remove duplicates\n",
    "words = [stemmer.stem(w.lower()) for w in words if w not in ignore_words]\n",
    "words = sorted(list(set(words)))\n",
    "\n",
    "# remove duplicates\n",
    "#classes = sorted(list(set(classes)))\n",
    "\n",
    "print (len(documents), \"documents\")\n",
    "print (len(classes), \"classes\", classes)\n",
    "print (len(words), \"unique stemmed words\", words)"
   ]
  },
  {
   "cell_type": "code",
   "execution_count": 5,
   "metadata": {},
   "outputs": [],
   "source": [
    "training = []\n",
    "output = []\n",
    "\n",
    "output_empty = [0] * len(classes)\n",
    "\n",
    "for doc in documents:\n",
    "    bag = []\n",
    "    \n",
    "    pattern_words = doc[0]\n",
    "    pattern_words = [stemmer.stem(word.lower()) for word in pattern_words]\n",
    "    \n",
    "    for w in words:\n",
    "        bag.append(1) if w in pattern_words else bag.append(0)\n",
    "\n",
    "    # output is a '0' for each tag and '1' for current tag\n",
    "    output_row = list(output_empty)\n",
    "    output_row[classes.index(doc[1])] = 1\n",
    "\n",
    "    training.append([bag, output_row])\n",
    "\n",
    "random.shuffle(training)\n",
    "training = np.array(training)\n",
    "\n",
    "train_x = list(training[:,0])\n",
    "train_y = list(training[:,1])"
   ]
  },
  {
   "cell_type": "code",
   "execution_count": 6,
   "metadata": {},
   "outputs": [
    {
     "name": "stdout",
     "output_type": "stream",
     "text": [
      "Training Step: 389999  | total loss: \u001b[1m\u001b[32m2.63457\u001b[0m\u001b[0m | time: 1.214s\n",
      "| Adam | epoch: 1000 | loss: 2.63457 - acc: 0.1453 -- iter: 3112/3113\n",
      "Training Step: 390000  | total loss: \u001b[1m\u001b[32m2.58006\u001b[0m\u001b[0m | time: 1.218s\n",
      "| Adam | epoch: 1000 | loss: 2.58006 - acc: 0.1558 -- iter: 3113/3113\n",
      "--\n",
      "INFO:tensorflow:/Users/reynadoerwald/Desktop/Honours/medical-chatbot/scripts/model.tflearn is not in all_model_checkpoint_paths. Manually adding it.\n"
     ]
    }
   ],
   "source": [
    "tf.reset_default_graph()\n",
    "\n",
    "net = tflearn.input_data(shape=[None, len(train_x[0])])\n",
    "net = tflearn.fully_connected(net, 8)\n",
    "net = tflearn.fully_connected(net, 8)\n",
    "net = tflearn.fully_connected(net, len(train_y[0]), activation='softmax')\n",
    "net = tflearn.regression(net)\n",
    "\n",
    "model = tflearn.DNN(net, tensorboard_dir='tflearn_logs')\n",
    "\n",
    "#model.fit(train_x, train_y, n_epoch=1000, batch_size=8, show_metric=True)\n",
    "model.load('model.tflearn')\n"
   ]
  },
  {
   "cell_type": "code",
   "execution_count": 7,
   "metadata": {},
   "outputs": [],
   "source": [
    "def clean_up_sentence(sentence):\n",
    "    sentence_words = nltk.word_tokenize(sentence)\n",
    "\n",
    "    sentence_words = [stemmer.stem(word.lower()) for word in sentence_words]\n",
    "    return sentence_words\n",
    "\n",
    "# return bag of words array: 0 or 1 for each word in the bag that exists in the sentence\n",
    "def bow(sentence, words, show_details=False):\n",
    "    sentence_words = clean_up_sentence(sentence)\n",
    "\n",
    "    bag = [0]*len(words)  \n",
    "    for s in sentence_words:\n",
    "        for i,w in enumerate(words):\n",
    "            if w == s: \n",
    "                bag[i] = 1\n",
    "                if show_details:\n",
    "                    print (\"found in bag: %s\" % w)\n",
    "\n",
    "    return(np.array(bag))"
   ]
  },
  {
   "cell_type": "code",
   "execution_count": 8,
   "metadata": {},
   "outputs": [
    {
     "name": "stdout",
     "output_type": "stream",
     "text": [
      "[0 0 0 ... 0 0 0]\n",
      "['hypertensive disease', 'diabetes', 'depression mental', 'depressive disorder', 'coronary arteriosclerosis', 'coronary heart disease', 'pneumonia', 'failure heart congestive', 'accident cerebrovascular', 'asthma', 'myocardial infarction', 'hypercholesterolemia', 'infection', 'infection urinary tract', 'anemia', 'chronic obstructive airway disease', 'dementia', 'insufficiency renal', 'confusion', 'degenerative polyarthritis', 'hypothyroidism', 'anxiety state', 'malignant neoplasms', 'primary malignant neoplasm', 'acquired immuno-deficiency syndrome', 'HIV', 'hiv infections', 'cellulitis', 'gastroesophageal reflux disease', 'septicemia', 'systemic infection', 'sepsis (invertebrate)', 'deep vein thrombosis', 'dehydration', 'neoplasm', 'embolism pulmonary', 'epilepsy', 'cardiomyopathy', 'chronic kidney failure', 'carcinoma', 'hepatitis ', 'peripheral vascular disease', 'psychotic disorder', 'hyperlipidemia', 'bipolar disorder', 'obesity', 'ischemia', 'cirrhosis', 'exanthema', 'benign prostatic hypertrophy', 'kidney failure acute', 'mitral valve insufficiency', 'arthritis', 'bronchitis', 'hemiparesis', 'osteoporosis', 'transient ischemic attack', 'adenocarcinoma', 'paranoia', 'pancreatitis', 'incontinence', 'paroxysmal dyspnea', 'hernia', 'malignant neoplasm of prostate', 'carcinoma prostate', 'edema pulmonary', 'lymphatic diseases', 'stenosis aortic valve', 'malignant neoplasm of breast', 'carcinoma breast', 'schizophrenia', 'diverticulitis', 'overload fluid', 'ulcer peptic', 'osteomyelitis', 'gastritis', 'bacteremia', 'failure kidney', 'sickle cell anemia', 'failure heart', 'upper respiratory infection', 'hepatitis', 'hypertension pulmonary', 'deglutition disorder', 'gout', 'thrombocytopaenia', 'hypoglycemia', 'pneumonia aspiration', 'colitis', 'diverticulosis', 'suicide attempt', 'Pneumocystis carinii pneumonia', 'hepatitis B', 'parkinson disease', 'lymphoma', 'hyperglycemia', 'encephalopathy', 'tricuspid valve insufficiency', \"Alzheimer's disease\", 'candidiasis', 'oralcandidiasis', 'neuropathy', 'kidney disease', 'fibroid tumor', 'glaucoma', 'neoplasm metastasis', 'malignant tumor of colon', 'carcinoma colon', 'ketoacidosis diabetic', 'tonic-clonic epilepsy', 'tonic-clonic seizures', 'respiratory failure', 'melanoma', 'gastroenteritis', 'malignant neoplasm of lung', 'carcinoma of lung', 'manic disorder', 'personality disorder', 'primary carcinoma of the liver cells', 'emphysema pulmonary', 'hemorrhoids', 'spasm bronchial', 'aphasia', 'obesity morbid', 'pyelonephritis', 'endocarditis', 'effusion pericardial', 'pericardial effusion body substance', 'chronic alcoholic intoxication', 'pneumothorax', 'delirium', 'neutropenia', 'hyperbilirubinemia', 'influenza', 'dependence', 'thrombus', 'cholecystitis', 'hernia hiatal', 'migraine disorders', 'pancytopenia', 'cholelithiasis', 'biliary calculus', 'tachycardia sinus', 'ileus', 'adhesion', 'delusion', 'affect labile', 'decubitus ulcer', 'addiction', 'stop smoking', 'pregnancy', 'diet', 'endometriosis', 'breast cancer', 'cancer', 'breasts', 'hair loss', 'acne', 'ovulation and ovaries', 'am i pregnant', 'pregnant', 'urine pregnancy test', 'ultrasound', 'abdomen', 'periods', 'woman', 'urine', 'accurate pregnancy tests', 'womens chat', 'addiction, recovery', 'depression', 'withdrawal', 'narcotics', 'drug addiction treatment', 'alcoholics anonymous', 'narcotics anonymous', 'addiction treatment', 'drug addiction', 'mental health', 'treatment', 'clinical trials, research, and studies', 'general community chat', 'breast', 'angry', 'health care', 'pap smear', 'female', 'angers', 'eyes', 'male', 'sex', 'about health care', 'health insurance', 'period', 'bellybutton', 'august', 'sleep', 'sleep disorders', 'recovery & post-op', 'ear', 'nose', 'after surgery', 'headaches', 'surgery', 'sinus surgery', 'after sinus surgery', 'nose  throat', 'attention disorders', 'abortion debate', 'abortion pregnancy', 'benefits of', 'abortions', 'abort', 'complications', 'medications', 'medication', 'abortion complications', 'abortion surgical', 'sexual health', 'atherosclerosis', 'body mass index', 'exercise', 'diet weight loss', 'thyroid health', 'weight loss', 'weight', 'loss', 'affect', 'tired', 'cosmetic health', 'cosmetic surgery, plastic surgery', 'shoulder pain', 'cosmetic surgery', 'plastic surgery', 'puberty', 'average', 'cream', 'skin', 'alternative', 'alternative to', 'alternative medicine', 'trauma', 'tumor', 'benign tumor', 'what is a benign tumor', 'back care', 'aconitum', 'anxiety', 'anxiety effects', 'fitness', 'pcos', 'food', 'best doctor', 'diet food', 'best diet', 'best diet food', 'best food diet', 'best diet for diabetes', 'diabetic diet', 'about diabetes', 'ibs', 'diet pills', 'atkins diet', 'b12 deficiency', 'afriend', 'acid', 'atkins diet information', 'b12 deficiency vitamin', 'anemia b12 deficiency', 'diets', 'diet  fitness', 'activity fitness', 'atkins bread', 'atkins diets', 'touch', 'neck', 'back tattoo', 'back neck', 'back and neck', 'body modification', 'diets and diet plans', 'nausea', 'symptoms', 'diet ideas', 'taking supplements', 'vitamins', 'act', 'acting out', 'banging', 'memory', 'stress', 'acting out behavior', 'depression treatment', 'treatment progress', 'grade school kids health', 'penis', 'penis growth', 'preteens', 'pediatrics', 'kids health and pediatrics', 'parenting', 'adolescence problems', 'all sides', 'parenting community', 'atm', 'about depression', 'sleep depression', 'broken hearted', 'ending a relationship', 'afford', 'angry kids', 'all kids', 'bad wife', 'all pump', 'bad kids', 'bad 4 good', 'family relationships', 'major depression', 'childhood', 'childhood depression', 'all about depression', 'anxiety and stress', 'stress anxiety', 'stressed out', 'yoga', 'appreciate your help', 'adequate', 'anal', 'ocd', 'anxiety overcome', 'anxiety forum', 'between legs', 'anxiety ocd', 'glbt relationships', 'advice depression', 'age concern', 'age women', 'grief and loss', 'treatment options', 'diagnosis', 'argument', 'alone', 'medical treatment', 'healthcare it', 'child medical treatment', 'single and struggling', 'nutrition', 'pregnancy fitness', 'pregnancy health', 'second pregnancy', 'before pregnancy', 'pregnancy fitness, health and nutrition', 'belly', 'aid', 'pregnancy problems', 'pregnancy exercise', 'single and pregnant', 'vaginal infection', 'pregnancies', 'infections', 'premature', 'stomach', 'vaginal', 'unprotected sex', 'become pregnant', 'normal period', 'depression during pregnancy', 'pregnancy depression', 'headaches during pregnancy', 'stress and headaches', 'postpartum depression', 'third trimester', 'progesterone', 'aggressive', 'headache', 'teen pregnancy', 'lump', 'breast lump', 'lactation', 'alleviate', 'infected', 'breastfeeding and nursing', 'pediatrician', 'about nursing', 'baby products', 'baby nursing', 'baby mother', 'baby forum', 'baby safe', 'baby new', 'baby care products', 'baby solid food', 'baby to sleep', 'baby 6 months', 'baby treatment', 'menstruation', 'pregnancy community chat', 'nipple', 'babies newborn', 'baby newborn', 'babies baby', 'baby month', 'newborn babies', 'antibiotic', 'babies cold', 'vomiting', 'babies vomiting', 'baby vomiting', 'back straight', 'babies eating', 'babies milk', 'feet', 'baby 12 months', 'baby 9 month', 'babies development', 'babies children', 'about children', 'babies infants', 'babies walking', 'baby children', 'infants', 'bowl movement', 'bowl', 'behavior in children', 'behavior children', 'behavior toddlers', 'behavior child', 'behavior be', 'toddlers', 'preschool', 'bone', 'preschool kids', 'tmj', 'hearing', 'apply', 'vision and eye disorders', 'neurological disorders', 'tuberculosis', 'fever', 'tb', 'mononucleosis', 'vegetarian', 'smoker', 'spleen', 'spleen pain', 'orthopedics', 'diarrhea', 'dietary', 'itchy', 'pancreas disorders', 'dental health', 'skin health', 'sinusitis', 'lung cancer', 'lung health', 'skin cancer', 'spleen symptoms', 'best health', 'best health food', 'contagious', 'contagious disease', 'vaccinated', 'measles and mumps', 'meningitis', 'sexual life', 'back ache', 'altering', 'chronic', 'edema', 'ache', 'genital warts', 'herpes', 'asymptomatic', 'oral herpes', 'genitals', 'mouth', 'herpes and genital warts', 'hiv and aids', 'high blood pressure', 'high blood pressure and hypertension', 'healthy eating', 'food and mood', 'tumors', 'abnormal cell', 'muscles', 'joints', 'inflammatory and abnormal cell disorders', 'thyroid gland', 'thyroid', 'swollen', 'fatigue', 'thyroid underactive', 'intestinal disorders', 'lupus', 'viral meningitis', 'cerebral palsy', 'memory loss', 'dizziness', 'bacteria', 'seizures', 'diseases', 'encephalitis', 'swelling', 'infertility', 'glands', 'angle', 'lumps', 'endocrine disorders', 'adhd or', 'bipolar', 'cystic fibrosis', 'anticipation', 'polyps', 'ask health question', 'sleep problem', 'air breathe', 'air health', 'recovery', 'diagnostic techniques, treatments', 'menopause', 'fibromyalgia', 'foot disorders', 'hair loss, hair disorders', 'hair', 'smell', 'pills', 'about hair loss', 'about fish', 'bad smell', 'all wash', 'genetic disorders', 'heart disease', 'heart attack', 'heart health', 'heart disease and heart attack', 'flu', 'cold and flu', 'cold, flu and viral infections', 'appendix and appendicitis', 'back pain', 'blood disorders', 'bladder', 'small intestine', 'intestine', 'gall bladder surgery', 'intestine disorders', 'bile duct disorders', 'rib cage', 'hear', 'intestines', 'broken bones', 'treatments', 'advisable', 'muscle', 'cerebral palsy treatment', 'baby cerebral palsy', 'gastro esophageal reflux disease', 'surgical procedure', 'keyhole surgery', 'stomach pains', 'benefit from', 'stomach acid', 'endoscopy', 'rehabilitation', 'accelerator', 'automatic', 'ability', 'sense', 'about cerebral palsy', 'best muscles', 'chronic fatigue syndrome', 'chronic fatigue', 'about masturbation', 'infectious', 'axis', 'eating disorders', 'cardio health', 'liver health', 'disorders and conditions', 'armpit', 'armpit female', 'celiac disease', 'stomach cancer', 'abdominal pain', 'stomach pain', 'blood tests', 'gastric', 'liver cancer', 'liver', 'liver disease', 'administer', 'cancer advice', 'before surgery', 'analysis', 'alpha', 'leukemia', 'radiation therapy', 'appears to be', 'chemotherapy', 'cancer cells', 'radiation', 'prostate cancer', 'prostate', 'ask the doctor', 'prostatectomy', 'beverages', 'caffeine', 'procedure', 'head', 'whipple procedure', 'cancer diagnosis', 'cancer tumor', 'pancreatic cancer', 'left arm', 'arm', 'back inflammation', 'pain medication', 'after cancer', 'cancer help', 'prostate health', 'testicular cancer', 'thyroid cancer', 'sexual desire', 'affect memory', 'kidney', 'bad smells', 'als', 'bad body odor', 'bath seat', 'bad odor', 'bath a', 'als, lou gehrig disease', 'pain management', 'birth control', 'birth control - men', 'sexual problems', 'bathroom idea', 'mens chat', 'antidepressant', 'baclofen', 'antidepressant citalopram', 'anxiety disability', 'anxiety medication', 'anxiety help', 'erectile dysfunction', 'lack of sensation', 'testosterone', 'abnormally', 'sex drive', 'orgasm', 'ulcer', 'chemo', 'radiation therapy for cancer', 'testicles', 'brain cancer', 'bone cancer', 'biopsy', 'night sweats', 'right arm', 'migrain', 'mental conditions', 'autism signs', 'autism', 'behavioral disorder', 'early intervention', 'alternating', 'behaviors', 'autism symptoms of', 'autistic children symptoms', 'autism symptoms children', 'autism and language', 'autism communication', 'behaviour children', 'behaviour problems', 'alphabet', 'autism children', 'adults autism', 'autism adults', 'all children', 'autism talk', 'autism work', 'autism and', 'age group', 'add', 'adhd', 'concerta', 'adhd add', 'add and adhd', 'advice parents', 'adhd parents', 'adhd doctor', 'advice love', 'adhd odd', 'add  and  adhd', 'add/adhd', 'dyslexia', 'smoking pot', 'smoking', 'abusive', 'bipolar help', 'bipolar relationships', 'anger help', 'anxiety bipolar disorder', 'about bipolar disorder', 'anxiety and bipolar disorder', 'anxiety disorder', 'anger disorder', 'anxiety anger', 'abruptly', 'anger outbursts', 'anger and bipolar disorder']\n"
     ]
    }
   ],
   "source": [
    "p = bow(\"Nausea\", words)\n",
    "print (p)\n",
    "print (classes)"
   ]
  },
  {
   "cell_type": "code",
   "execution_count": 9,
   "metadata": {},
   "outputs": [
    {
     "name": "stdout",
     "output_type": "stream",
     "text": [
      "[[1.59034319e-02 2.01281086e-02 1.04542360e-05 8.91364743e-06\n",
      "  1.99816888e-04 2.44152558e-04 3.90895593e-06 8.71677116e-07\n",
      "  1.12332818e-04 1.38876501e-07 2.82936567e-03 7.23956339e-03\n",
      "  2.70819437e-04 7.48095976e-04 4.83217882e-03 3.94927582e-07\n",
      "  1.01716502e-03 4.70169540e-03 7.05646176e-04 2.17558397e-03\n",
      "  6.69185724e-03 1.43016677e-03 7.20801472e-04 3.20310995e-04\n",
      "  5.04149148e-06 5.49246033e-06 4.84682050e-06 2.35436572e-04\n",
      "  6.10065982e-02 1.10776722e-03 1.02013373e-03 1.15575688e-03\n",
      "  5.30442003e-06 2.49361414e-02 4.53404710e-03 1.05077959e-06\n",
      "  8.23914206e-07 1.84399643e-04 1.63379163e-02 9.37934685e-03\n",
      "  8.87040244e-07 2.09866630e-04 5.95968368e-06 5.37950452e-03\n",
      "  2.67087762e-06 3.96258052e-04 6.55252778e-04 6.92622329e-04\n",
      "  2.71301542e-04 4.67881386e-04 5.75236743e-04 2.17091455e-03\n",
      "  3.56884208e-04 2.16714830e-06 3.60269610e-06 8.56021943e-04\n",
      "  1.40852382e-04 2.51168356e-04 1.18525003e-08 7.27546811e-02\n",
      "  6.32913652e-05 8.81205196e-04 1.73077844e-02 3.57471115e-04\n",
      "  4.48545878e-04 2.83620990e-04 1.16069759e-05 3.10741889e-04\n",
      "  8.98228882e-06 6.95624340e-06 3.01825281e-07 2.30145510e-02\n",
      "  8.12039218e-07 2.24967953e-02 3.73776071e-04 4.09778953e-02\n",
      "  4.19124699e-04 2.33482642e-05 2.32352479e-03 6.46824446e-06\n",
      "  1.22947554e-07 3.05943983e-03 3.87866720e-07 1.74507848e-04\n",
      "  1.97409216e-04 7.76177185e-05 4.07142725e-05 7.18266284e-03\n",
      "  6.87337220e-02 3.08865216e-02 1.20798642e-04 1.86766356e-05\n",
      "  5.10062731e-04 4.78978000e-05 3.10024101e-04 4.53813671e-04\n",
      "  1.19703174e-04 4.02834639e-02 7.00161763e-07 3.37057900e-05\n",
      "  3.29965260e-05 1.75280757e-02 5.63931208e-05 8.99187653e-05\n",
      "  1.73147739e-04 1.03007853e-02 3.99194993e-02 3.15317400e-02\n",
      "  2.95280237e-02 1.45044100e-06 1.36376707e-06 6.20832143e-05\n",
      "  6.55128108e-03 3.08118835e-02 1.40334567e-04 1.49487547e-04\n",
      "  3.05384127e-08 2.26979353e-03 3.19600920e-04 1.48748979e-03\n",
      "  1.32084582e-02 1.87978777e-03 3.36512507e-08 8.94136747e-08\n",
      "  2.78930832e-02 3.49621638e-04 9.56399163e-05 1.00692618e-04\n",
      "  1.80758434e-07 4.36604211e-07 2.64939270e-04 6.85765772e-05\n",
      "  1.02440780e-03 9.63543644e-05 7.51080407e-08 2.26373412e-03\n",
      "  4.08791043e-02 6.40772656e-02 9.42616537e-03 5.05510194e-04\n",
      "  3.48754339e-02 3.46877575e-02 2.52033379e-02 2.40873192e-02\n",
      "  9.31659527e-03 6.28699297e-07 1.46314551e-05 3.29783717e-07\n",
      "  5.81256856e-08 1.56985234e-08 2.31617392e-08 2.72060424e-06\n",
      "  6.33751629e-09 2.60740620e-07 2.64841383e-05 1.15178636e-06\n",
      "  5.59585828e-07 1.29314245e-07 1.50035476e-07 9.67936753e-09\n",
      "  3.33740502e-07 1.43887149e-07 1.12249552e-06 3.82978868e-07\n",
      "  1.49769654e-08 3.06475130e-07 5.57149633e-07 1.20215802e-07\n",
      "  1.51965409e-07 5.29730437e-09 4.71240957e-09 8.32042915e-08\n",
      "  8.16326420e-08 7.34908525e-08 7.43899804e-08 1.22819131e-07\n",
      "  1.20697123e-07 1.20122053e-07 7.98510555e-08 5.43310125e-06\n",
      "  2.96406615e-11 7.18284010e-09 1.79054055e-07 1.87340561e-07\n",
      "  1.55046180e-07 2.17541238e-08 2.02257784e-08 1.34208866e-08\n",
      "  2.19873098e-08 1.92837142e-08 7.49230367e-08 2.07878834e-08\n",
      "  8.25493842e-08 1.33672685e-07 1.90055776e-08 2.45105753e-07\n",
      "  6.66399060e-08 1.62531251e-08 9.00511665e-09 9.82507572e-07\n",
      "  3.44146258e-08 6.66901315e-06 6.27960119e-08 3.91960202e-06\n",
      "  9.70890994e-08 1.45457520e-07 9.75878720e-08 8.38600656e-08\n",
      "  2.44400610e-07 6.50039382e-08 7.10094881e-08 4.21345845e-07\n",
      "  4.49438801e-07 5.08705170e-07 2.45192405e-06 8.87693204e-06\n",
      "  4.71794550e-07 3.69012099e-07 4.42467950e-07 3.31312918e-07\n",
      "  2.85807658e-07 6.70955671e-07 3.30842141e-07 4.82756718e-07\n",
      "  2.00631547e-08 4.43437607e-08 1.52183389e-07 1.70948444e-09\n",
      "  9.48376710e-10 3.13980934e-07 1.41848966e-06 1.95706389e-06\n",
      "  1.13704391e-06 2.47073967e-06 4.53911696e-07 1.33625736e-06\n",
      "  5.23667779e-07 8.97709178e-05 1.27021640e-05 5.54252165e-06\n",
      "  4.30767841e-06 1.35877999e-05 1.00960890e-04 1.54675199e-05\n",
      "  1.34402208e-05 1.57966133e-05 6.54089320e-07 5.61728882e-07\n",
      "  8.03166643e-07 5.69680090e-08 1.95652274e-06 1.47336220e-06\n",
      "  1.24820303e-06 1.39740791e-06 2.10339090e-06 1.93466940e-06\n",
      "  1.59977719e-06 2.13124986e-06 2.04750290e-06 1.14009606e-06\n",
      "  2.54378421e-07 2.88946080e-06 2.54118987e-07 4.72061885e-07\n",
      "  4.65423653e-07 2.50102312e-06 4.84226689e-07 4.29856186e-07\n",
      "  4.42450215e-07 8.60430873e-08 1.02781605e-07 1.27927677e-07\n",
      "  8.14606906e-08 8.70889707e-08 2.79241813e-05 1.08279746e-05\n",
      "  1.38255691e-05 1.14700215e-05 3.64199295e-05 2.79511041e-05\n",
      "  3.96604527e-09 3.99250908e-08 2.06999903e-06 4.43427908e-08\n",
      "  1.71272529e-09 6.61898203e-10 2.35200677e-08 1.57071192e-08\n",
      "  1.85839504e-08 5.52272965e-08 3.30092975e-09 2.05137063e-08\n",
      "  1.23192567e-08 2.67555791e-08 2.75986807e-08 2.35234552e-08\n",
      "  2.02372274e-09 3.08319659e-09 4.43996214e-06 4.47159437e-06\n",
      "  9.13572057e-06 6.93707716e-06 7.97479424e-06 1.08774675e-05\n",
      "  2.70578937e-09 3.43432949e-09 4.28262803e-09 1.26194055e-09\n",
      "  1.44802898e-12 1.13151025e-07 1.43828558e-07 2.51166085e-07\n",
      "  3.09339896e-07 4.11160556e-07 5.09942822e-07 3.58731455e-07\n",
      "  5.55548638e-08 3.09731907e-09 7.56897212e-09 3.61933084e-09\n",
      "  3.76816978e-09 1.01288773e-08 1.25036896e-08 1.47929935e-08\n",
      "  4.05491392e-08 1.85193727e-08 2.13223181e-08 3.47477425e-08\n",
      "  4.29954348e-08 4.36102532e-08 4.45733512e-08 2.72471699e-08\n",
      "  4.69000874e-08 4.06149709e-08 2.12038631e-09 3.43243056e-09\n",
      "  2.50986010e-09 2.28459984e-09 1.12363452e-07 9.39087442e-07\n",
      "  3.57729760e-07 1.56189813e-07 3.05168692e-06 1.58009311e-06\n",
      "  1.55293904e-07 1.06922855e-07 1.05498277e-08 1.57743401e-08\n",
      "  1.15439684e-08 1.36293092e-08 9.52119983e-09 1.51042947e-08\n",
      "  2.07170707e-08 1.66107945e-08 1.34854083e-08 2.22031229e-08\n",
      "  6.72128664e-08 2.93764742e-07 4.66108560e-07 4.57038738e-07\n",
      "  3.35938381e-07 1.91711188e-05 3.07594263e-07 2.91687865e-08\n",
      "  7.71688420e-08 1.92056397e-08 7.19538651e-09 1.23782506e-09\n",
      "  1.27598809e-09 9.49578638e-10 3.66682578e-08 2.43699247e-08\n",
      "  3.62756367e-08 3.00370147e-08 1.37985579e-08 6.81147749e-10\n",
      "  3.37127489e-07 3.97389726e-07 4.78246307e-07 3.92430167e-07\n",
      "  5.17400849e-06 1.28734072e-07 5.78681647e-06 9.83198802e-08\n",
      "  1.88426213e-07 2.12406590e-07 1.54306122e-07 1.91400616e-07\n",
      "  2.05842852e-07 1.79336894e-07 2.28427311e-07 9.18020930e-08\n",
      "  9.44288558e-08 1.04656472e-07 5.61224702e-08 2.83648127e-09\n",
      "  1.90335392e-09 1.70636304e-06 4.79666141e-06 2.12084637e-06\n",
      "  1.88656463e-06 1.67506096e-06 3.67650773e-06 8.63089156e-07\n",
      "  7.02019122e-07 2.96631606e-06 7.54408177e-07 7.98060228e-07\n",
      "  9.52364303e-07 5.19830451e-07 7.24330619e-07 2.87328421e-05\n",
      "  2.97474685e-06 3.23426548e-06 2.57939314e-06 3.94253448e-06\n",
      "  3.40583802e-06 3.11317922e-06 3.77327137e-06 3.57502449e-06\n",
      "  6.18856575e-07 1.27022417e-06 1.42797580e-06 2.40897066e-06\n",
      "  2.30467003e-06 1.75513082e-06 1.73175397e-06 1.20136315e-06\n",
      "  1.14883312e-06 9.70516467e-09 9.24168120e-08 1.38922527e-08\n",
      "  6.68409371e-07 2.84569501e-06 2.50009771e-06 9.15781051e-09\n",
      "  1.01896438e-08 4.42511833e-07 2.57988518e-06 1.72135094e-06\n",
      "  6.16770819e-07 1.05208221e-06 5.75593617e-07 7.24268375e-07\n",
      "  1.08820689e-06 2.50166035e-15 3.73265607e-06 2.79304800e-06\n",
      "  2.53101348e-06 3.70002135e-06 1.85648986e-07 2.30354726e-06\n",
      "  1.73177128e-07 8.59551710e-06 8.12653980e-06 1.12743974e-05\n",
      "  1.62750339e-07 1.54454241e-07 1.59965879e-07 6.47536672e-06\n",
      "  2.87902503e-06 2.54131714e-06 2.33244191e-06 3.99213178e-08\n",
      "  1.71830017e-08 2.43036382e-08 1.67889755e-08 1.13523598e-07\n",
      "  2.41197498e-08 1.93147986e-08 6.44221609e-06 4.23120264e-06\n",
      "  3.34568244e-06 4.97888504e-06 5.24046254e-06 1.02609772e-06\n",
      "  1.92411312e-06 1.59178118e-12 5.91300122e-05 4.76800888e-05\n",
      "  1.90665872e-07 1.95041878e-07 1.77909405e-05 1.63176646e-05\n",
      "  6.25826142e-05 1.68412153e-05 1.64768389e-05 6.83539909e-08\n",
      "  2.47370451e-07 1.42266106e-06 5.11205158e-08 6.03365109e-08\n",
      "  7.23909679e-08 9.08129914e-06 7.89910587e-07 1.85147037e-05\n",
      "  8.12970598e-07 1.38914595e-06 4.80926474e-07 6.48191872e-07\n",
      "  1.98052490e-07 7.17064026e-08 1.28248041e-06 2.36889468e-06\n",
      "  2.29396710e-06 2.37810264e-06 2.85818714e-06 1.12773868e-07\n",
      "  1.28574328e-07 1.46629262e-07 8.31952391e-08 1.35123841e-07\n",
      "  9.65045786e-08 2.09617284e-07 1.20005382e-07 1.18870204e-07\n",
      "  1.79745086e-07 4.58097361e-07 3.40854967e-07 9.56591109e-08\n",
      "  1.02550146e-07 1.44808716e-08 9.30802457e-07 6.15980809e-07\n",
      "  4.19700399e-07 6.12552071e-07 5.41353245e-07 7.20350954e-07\n",
      "  7.30274053e-07 5.04191689e-07 1.68145237e-11 2.29915122e-06\n",
      "  2.72241073e-06 1.64521487e-06 2.80775248e-06 2.33923714e-07\n",
      "  2.58595065e-07 2.47021092e-07 4.03318481e-12 1.17504317e-08\n",
      "  8.14967722e-13 7.73693216e-07 7.16639533e-06 5.73547868e-06\n",
      "  6.77713331e-07 1.28240697e-06 3.34853939e-06 7.46895125e-07\n",
      "  3.22065034e-07 7.30827605e-06 3.17315681e-07 5.83331257e-07\n",
      "  5.55209397e-07 5.51792346e-06 6.13261079e-07 6.30402553e-07\n",
      "  8.04184947e-06 5.88840385e-06 7.73527609e-06 9.45549345e-06\n",
      "  1.66543141e-05 1.14307541e-05 7.17916628e-05 9.66644893e-06\n",
      "  7.27034831e-06 1.36581639e-05 9.82421807e-06 1.35093451e-05\n",
      "  1.10388619e-05 1.03041011e-05 6.06604999e-07 8.58698399e-07\n",
      "  7.61711931e-07 6.40388578e-07 6.27198517e-07 7.16145578e-08\n",
      "  3.51535675e-07 2.22257398e-07 3.31590769e-07 2.68379864e-07\n",
      "  3.18004282e-07 3.47035154e-07 2.49495060e-05 4.16089097e-06\n",
      "  1.70077838e-05 3.42549652e-06 4.20074593e-06 1.92059069e-05\n",
      "  2.63921102e-05 9.17822308e-06 6.45018372e-06 8.85102236e-06\n",
      "  1.49340704e-05 1.38386813e-05 1.20999666e-05 5.66515013e-08\n",
      "  1.13491232e-07 7.36166257e-08 1.07659412e-06 1.04975442e-07\n",
      "  1.13417983e-07 4.39357837e-06 6.22948221e-07 5.86092597e-07\n",
      "  5.84417080e-07 4.27432070e-07 5.14855799e-07 3.22881374e-06\n",
      "  3.32271520e-06 3.41136092e-06 4.09253244e-06 3.69962277e-06\n",
      "  2.51324332e-06 2.24713631e-06 2.43736895e-06 3.98423254e-06\n",
      "  2.86672071e-06 7.48135571e-05 5.41470508e-05 6.83008830e-06\n",
      "  1.50473825e-05 9.05592856e-07 1.32825301e-06 1.25424447e-06\n",
      "  1.36045708e-06 2.27313151e-07 1.43770436e-07 1.62798457e-07\n",
      "  1.88429269e-07 1.86710778e-07 1.47619545e-07 2.27996715e-08\n",
      "  2.56569699e-09 5.45636624e-07 3.47330854e-07 1.24374409e-07\n",
      "  6.99735594e-08 7.44906501e-08 1.77468110e-07 3.10888140e-07\n",
      "  2.10292853e-07 1.96929619e-07 3.24772770e-07 3.56606392e-07\n",
      "  3.45418272e-07 4.76760846e-07 4.69190780e-07 5.11145913e-07\n",
      "  5.00258977e-07 5.15200099e-07 1.79409255e-07 1.29322132e-07\n",
      "  1.47756168e-07 5.21580432e-07 6.94290884e-06 3.43665783e-06\n",
      "  5.36849541e-07 5.70252780e-07 3.68977283e-07 4.87269290e-07\n",
      "  2.88044819e-15 6.15871230e-08 3.33075945e-07 3.01406331e-08\n",
      "  3.78777187e-08 3.53277052e-08 2.38284734e-08 3.79419134e-07\n",
      "  3.51131945e-07 3.21788406e-07 3.15226686e-07 3.60192814e-07\n",
      "  4.45719706e-07 4.69688160e-07 6.45340066e-08 5.17169383e-08\n",
      "  5.34201234e-08 5.26379793e-08 8.37811669e-08 5.69349901e-08\n",
      "  7.83282559e-08 5.10020897e-08 7.98979798e-08 1.20979064e-06\n",
      "  8.08393679e-07 1.56860278e-06 2.28403451e-06 1.10491374e-06\n",
      "  1.83608404e-06 1.04473042e-06 1.47112701e-06 1.52027815e-06\n",
      "  1.08613335e-06 3.10579208e-06 1.63321499e-06 2.45056668e-07\n",
      "  1.57506733e-07 1.63376882e-07 1.78370115e-07 8.23311339e-08\n",
      "  1.04742846e-07 8.11687286e-08 1.49029688e-07 1.12401814e-07\n",
      "  7.04757710e-08 1.52130127e-07 1.11405278e-07 1.78897537e-07\n",
      "  1.01719884e-07 1.95150520e-07 1.22669988e-07]]\n"
     ]
    }
   ],
   "source": [
    "print(model.predict([p]))"
   ]
  },
  {
   "cell_type": "code",
   "execution_count": 10,
   "metadata": {},
   "outputs": [],
   "source": [
    "import pickle\n",
    "pickle.dump( {'words':words, 'classes':classes, 'train_x':train_x, 'train_y':train_y}, open( \"training_data\", \"wb\" ) )"
   ]
  },
  {
   "cell_type": "code",
   "execution_count": 18,
   "metadata": {},
   "outputs": [],
   "source": [
    "# create a data structure to hold user context\n",
    "context = {}\n",
    "\n",
    "ERROR_THRESHOLD = 0.01\n",
    "def classify(sentence):\n",
    "    # generate probabilities from the model\n",
    "    results = model.predict([bow(sentence, words)])[0]\n",
    "    # filter out predictions below a threshold\n",
    "    results = [[i,r] for i,r in enumerate(results) if r>ERROR_THRESHOLD]\n",
    "    # sort by strength of probability\n",
    "    results.sort(key=lambda x: x[1], reverse=True)\n",
    "    return_list = []\n",
    "    for r in results:\n",
    "        return_list.append((classes[r[0]], r[1]))\n",
    "    # return tuple of intent and probability\n",
    "    return return_list\n",
    "\n",
    "def response(sentence, userID='123', show_details=False):\n",
    "    results = classify(sentence)\n",
    "    # if we have a classification then find the matching intent tag\n",
    "    if results:\n",
    "        # loop as long as there are matches to process\n",
    "        while results:\n",
    "            for i in intents['intents']:\n",
    "                # find a tag matching the first result\n",
    "                if i['tag'] == results[0][0]:\n",
    "                    # set context for this intent if necessary\n",
    "                    if 'context_set' in i:\n",
    "                        if show_details: print ('context:', i['context_set'])\n",
    "                        context[userID] = i['context_set']\n",
    "\n",
    "                    # check if this intent is contextual and applies to this user's conversation\n",
    "                    if not 'context_filter' in i or \\\n",
    "                        (userID in context and 'context_filter' in i and i['context_filter'] == context[userID]):\n",
    "                        if show_details: print ('tag:', i['tag'])\n",
    "                        # a random response from the intent\n",
    "                        return print(random.choice(i['responses']))\n",
    "\n",
    "            results.pop(0)"
   ]
  },
  {
   "cell_type": "code",
   "execution_count": 24,
   "metadata": {},
   "outputs": [
    {
     "data": {
      "text/plain": [
       "[('autism and language', 0.28227443),\n",
       " ('behaviour children', 0.18239072),\n",
       " ('autistic children symptoms', 0.07042944),\n",
       " ('autism symptoms children', 0.06623266),\n",
       " ('behaviour problems', 0.061518814),\n",
       " ('pediatrician', 0.05182751),\n",
       " ('autism symptoms of', 0.048046842),\n",
       " ('autism communication', 0.045206804),\n",
       " ('autism', 0.03999158),\n",
       " ('hypertension pulmonary', 0.033874124),\n",
       " ('symptoms', 0.01594817)]"
      ]
     },
     "execution_count": 24,
     "metadata": {},
     "output_type": "execute_result"
    }
   ],
   "source": [
    "classify(\"my son is now nineteen months old and doesnt say any words at all. he jabbers a lot but you can't understand any of it. he seems very normal otherwise. he plays and laughs and smiles. i've read things about how autistic children don't hold eye contact. he can and does. we have a seven year old son as well and i don't remember it taking this long for him to talk. should i be concerned that he may be autistic? i am a nervous wreck over this.\")"
   ]
  },
  {
   "cell_type": "code",
   "execution_count": 26,
   "metadata": {},
   "outputs": [
    {
     "name": "stdout",
     "output_type": "stream",
     "text": [
      "autism is a medical condition in which there are problems with communication and social interaction. this is a rather serious condition to be diagnosed without a complex and complete examination. the child might lack eye contact as you mentioned. the babbling in these children might be accompanied with unusual gestures repeating othersâ words whereas the words are less frequently associated with appropriate gestures. repetitive behaviour might be one of the symptoms that are most easy to recognize. it might include: compulsive behaviour ritualistic behaviour stereotypy or even self-injury. as for the slow improvement of the speech please consider that many children just need more time to talk and to be understood. different conditions might be causing this situation. sometimes the child might need help from a specialist for speech and language therapy whom you are advised to visit. s/he might be able to detect if there are any physiological problems with the speech-related organs (the tongue the palate the throat) or the child simply needs more time to develop the speech. to exclude autism you might want to take your child to a neuropsychologist pediatrician. until than please keep in mind that there are many children at the age of 19 months whose speech is not fluent enough to be understood clearly.\n"
     ]
    }
   ],
   "source": [
    "response(\"my son is now nineteen months old and doesnt say any words at all. he jabbers a lot but you can't understand any of it. he seems very normal otherwise. he plays and laughs and smiles. i've read things about how autistic children don't hold eye contact. he can and does. we have a seven year old son as well and i don't remember it taking this long for him to talk. should i be concerned that he may be autistic? i am a nervous wreck over this.\")"
   ]
  },
  {
   "cell_type": "code",
   "execution_count": 27,
   "metadata": {},
   "outputs": [
    {
     "data": {
      "text/plain": [
       "[('mitral valve insufficiency', 0.15444137),\n",
       " ('infection', 0.114869796),\n",
       " ('stenosis aortic valve', 0.05699378),\n",
       " ('osteomyelitis', 0.041458104),\n",
       " ('deep vein thrombosis', 0.03224081),\n",
       " ('cardiomyopathy', 0.022025887),\n",
       " ('failure heart', 0.021085443),\n",
       " ('thrombocytopaenia', 0.0196005),\n",
       " ('septicemia', 0.019353615),\n",
       " ('sepsis (invertebrate)', 0.018094353),\n",
       " ('systemic infection', 0.017544307),\n",
       " ('failure kidney', 0.015003482),\n",
       " ('cellulitis', 0.012999724),\n",
       " ('symptoms', 0.012986791),\n",
       " ('treatment', 0.012921259),\n",
       " ('lymphoma', 0.0120896045),\n",
       " ('exanthema', 0.01017379)]"
      ]
     },
     "execution_count": 27,
     "metadata": {},
     "output_type": "execute_result"
    }
   ],
   "source": [
    "classify('I think my child has autism.')"
   ]
  },
  {
   "cell_type": "code",
   "execution_count": 29,
   "metadata": {},
   "outputs": [
    {
     "name": "stdout",
     "output_type": "stream",
     "text": [
      "We will be with you as soon as we can\n"
     ]
    }
   ],
   "source": [
    "response('I think my child has autism.')"
   ]
  },
  {
   "cell_type": "code",
   "execution_count": 30,
   "metadata": {},
   "outputs": [
    {
     "name": "stdout",
     "output_type": "stream",
     "text": [
      "It looks like you may have primary carcinoma of the liver cells\n"
     ]
    }
   ],
   "source": [
    "response('Goodbye, see you later')"
   ]
  },
  {
   "cell_type": "code",
   "execution_count": 33,
   "metadata": {},
   "outputs": [
    {
     "data": {
      "text/plain": [
       "[('addiction', 0.24473102),\n",
       " ('stop smoking', 0.22128315),\n",
       " ('hypertension pulmonary', 0.18145563),\n",
       " ('vision and eye disorders', 0.028218998),\n",
       " ('septicemia', 0.022935428),\n",
       " ('taking supplements', 0.020347072),\n",
       " ('sepsis (invertebrate)', 0.019646993),\n",
       " ('dependence', 0.019476287),\n",
       " ('systemic infection', 0.019469732),\n",
       " ('neurological disorders', 0.017649073),\n",
       " ('embolism pulmonary', 0.014275271),\n",
       " ('vitamins', 0.0113377115),\n",
       " ('hyperbilirubinemia', 0.010254316)]"
      ]
     },
     "execution_count": 33,
     "metadata": {},
     "output_type": "execute_result"
    }
   ],
   "source": [
    "classify(\"how can a patient quit smoking?\")"
   ]
  },
  {
   "cell_type": "code",
   "execution_count": 34,
   "metadata": {},
   "outputs": [
    {
     "name": "stdout",
     "output_type": "stream",
     "text": [
      "stopping smoking is about will power and being steadfast. you can stop safely by having bupropion or nicotine patch cover initially in consult with a doctor. contact an addiction clinic near you. wishing you best of health thanks\n"
     ]
    }
   ],
   "source": [
    "response('how can a patient quit smoking?')"
   ]
  },
  {
   "cell_type": "code",
   "execution_count": 54,
   "metadata": {},
   "outputs": [
    {
     "data": {
      "text/plain": [
       "{}"
      ]
     },
     "execution_count": 54,
     "metadata": {},
     "output_type": "execute_result"
    }
   ],
   "source": [
    "context"
   ]
  },
  {
   "cell_type": "code",
   "execution_count": 55,
   "metadata": {},
   "outputs": [],
   "source": [
    "response('today')"
   ]
  },
  {
   "cell_type": "code",
   "execution_count": 56,
   "metadata": {},
   "outputs": [
    {
     "data": {
      "text/plain": [
       "[]"
      ]
     },
     "execution_count": 56,
     "metadata": {},
     "output_type": "execute_result"
    }
   ],
   "source": [
    "classify('today')"
   ]
  },
  {
   "cell_type": "code",
   "execution_count": 57,
   "metadata": {},
   "outputs": [],
   "source": [
    "response(\"Hi there!\", show_details=True)"
   ]
  },
  {
   "cell_type": "code",
   "execution_count": 58,
   "metadata": {},
   "outputs": [
    {
     "data": {
      "text/plain": [
       "[]"
      ]
     },
     "execution_count": 58,
     "metadata": {},
     "output_type": "execute_result"
    }
   ],
   "source": [
    "response('today')\n",
    "classify('today')"
   ]
  },
  {
   "cell_type": "code",
   "execution_count": 59,
   "metadata": {},
   "outputs": [],
   "source": [
    "response(\"thanks, your great\")"
   ]
  },
  {
   "cell_type": "code",
   "execution_count": null,
   "metadata": {},
   "outputs": [],
   "source": []
  }
 ],
 "metadata": {
  "kernelspec": {
   "display_name": "Python 3",
   "language": "python",
   "name": "python3"
  },
  "language_info": {
   "codemirror_mode": {
    "name": "ipython",
    "version": 3
   },
   "file_extension": ".py",
   "mimetype": "text/x-python",
   "name": "python",
   "nbconvert_exporter": "python",
   "pygments_lexer": "ipython3",
   "version": "3.7.1"
  }
 },
 "nbformat": 4,
 "nbformat_minor": 2
}
