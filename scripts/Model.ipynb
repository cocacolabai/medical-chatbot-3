{
 "cells": [
  {
   "cell_type": "code",
   "execution_count": null,
   "metadata": {},
   "outputs": [],
   "source": []
  },
  {
   "cell_type": "code",
   "execution_count": 1,
   "metadata": {},
   "outputs": [
    {
     "name": "stdout",
     "output_type": "stream",
     "text": [
      "WARNING:tensorflow:From /Library/Frameworks/Python.framework/Versions/3.7/lib/python3.7/site-packages/tensorflow/python/framework/op_def_library.py:263: colocate_with (from tensorflow.python.framework.ops) is deprecated and will be removed in a future version.\n",
      "Instructions for updating:\n",
      "Colocations handled automatically by placer.\n"
     ]
    }
   ],
   "source": [
    "import nltk\n",
    "from nltk.stem.lancaster import LancasterStemmer\n",
    "stemmer = LancasterStemmer()\n",
    "\n",
    "import numpy as np\n",
    "import tflearn\n",
    "import tensorflow as tf\n",
    "import random"
   ]
  },
  {
   "cell_type": "code",
   "execution_count": 2,
   "metadata": {},
   "outputs": [],
   "source": [
    "import json\n",
    "with open('../intents/intents.json') as json_data:\n",
    "    intents = json.load(json_data)"
   ]
  },
  {
   "cell_type": "code",
   "execution_count": 3,
   "metadata": {},
   "outputs": [
    {
     "name": "stderr",
     "output_type": "stream",
     "text": [
      "[nltk_data] Downloading package punkt to\n",
      "[nltk_data]     /Users/reynadoerwald/nltk_data...\n",
      "[nltk_data]   Package punkt is already up-to-date!\n"
     ]
    },
    {
     "data": {
      "text/plain": [
       "True"
      ]
     },
     "execution_count": 3,
     "metadata": {},
     "output_type": "execute_result"
    }
   ],
   "source": [
    "nltk.download('punkt')"
   ]
  },
  {
   "cell_type": "code",
   "execution_count": 4,
   "metadata": {},
   "outputs": [
    {
     "name": "stdout",
     "output_type": "stream",
     "text": [
      "3113 documents\n",
      "711 classes ['hypertensive disease', 'diabetes', 'depression mental', 'depressive disorder', 'coronary arteriosclerosis', 'coronary heart disease', 'pneumonia', 'failure heart congestive', 'accident cerebrovascular', 'asthma', 'myocardial infarction', 'hypercholesterolemia', 'infection', 'infection urinary tract', 'anemia', 'chronic obstructive airway disease', 'dementia', 'insufficiency renal', 'confusion', 'degenerative polyarthritis', 'hypothyroidism', 'anxiety state', 'malignant neoplasms', 'primary malignant neoplasm', 'acquired immuno-deficiency syndrome', 'HIV', 'hiv infections', 'cellulitis', 'gastroesophageal reflux disease', 'septicemia', 'systemic infection', 'sepsis (invertebrate)', 'deep vein thrombosis', 'dehydration', 'neoplasm', 'embolism pulmonary', 'epilepsy', 'cardiomyopathy', 'chronic kidney failure', 'carcinoma', 'hepatitis ', 'peripheral vascular disease', 'psychotic disorder', 'hyperlipidemia', 'bipolar disorder', 'obesity', 'ischemia', 'cirrhosis', 'exanthema', 'benign prostatic hypertrophy', 'kidney failure acute', 'mitral valve insufficiency', 'arthritis', 'bronchitis', 'hemiparesis', 'osteoporosis', 'transient ischemic attack', 'adenocarcinoma', 'paranoia', 'pancreatitis', 'incontinence', 'paroxysmal dyspnea', 'hernia', 'malignant neoplasm of prostate', 'carcinoma prostate', 'edema pulmonary', 'lymphatic diseases', 'stenosis aortic valve', 'malignant neoplasm of breast', 'carcinoma breast', 'schizophrenia', 'diverticulitis', 'overload fluid', 'ulcer peptic', 'osteomyelitis', 'gastritis', 'bacteremia', 'failure kidney', 'sickle cell anemia', 'failure heart', 'upper respiratory infection', 'hepatitis', 'hypertension pulmonary', 'deglutition disorder', 'gout', 'thrombocytopaenia', 'hypoglycemia', 'pneumonia aspiration', 'colitis', 'diverticulosis', 'suicide attempt', 'Pneumocystis carinii pneumonia', 'hepatitis B', 'parkinson disease', 'lymphoma', 'hyperglycemia', 'encephalopathy', 'tricuspid valve insufficiency', \"Alzheimer's disease\", 'candidiasis', 'oralcandidiasis', 'neuropathy', 'kidney disease', 'fibroid tumor', 'glaucoma', 'neoplasm metastasis', 'malignant tumor of colon', 'carcinoma colon', 'ketoacidosis diabetic', 'tonic-clonic epilepsy', 'tonic-clonic seizures', 'respiratory failure', 'melanoma', 'gastroenteritis', 'malignant neoplasm of lung', 'carcinoma of lung', 'manic disorder', 'personality disorder', 'primary carcinoma of the liver cells', 'emphysema pulmonary', 'hemorrhoids', 'spasm bronchial', 'aphasia', 'obesity morbid', 'pyelonephritis', 'endocarditis', 'effusion pericardial', 'pericardial effusion body substance', 'chronic alcoholic intoxication', 'pneumothorax', 'delirium', 'neutropenia', 'hyperbilirubinemia', 'influenza', 'dependence', 'thrombus', 'cholecystitis', 'hernia hiatal', 'migraine disorders', 'pancytopenia', 'cholelithiasis', 'biliary calculus', 'tachycardia sinus', 'ileus', 'adhesion', 'delusion', 'affect labile', 'decubitus ulcer', 'addiction', 'stop smoking', 'pregnancy', 'diet', 'endometriosis', 'breast cancer', 'cancer', 'breasts', 'hair loss', 'acne', 'ovulation and ovaries', 'am i pregnant', 'pregnant', 'urine pregnancy test', 'ultrasound', 'abdomen', 'periods', 'woman', 'urine', 'accurate pregnancy tests', 'womens chat', 'addiction, recovery', 'depression', 'withdrawal', 'narcotics', 'drug addiction treatment', 'alcoholics anonymous', 'narcotics anonymous', 'addiction treatment', 'drug addiction', 'mental health', 'treatment', 'clinical trials, research, and studies', 'general community chat', 'breast', 'angry', 'health care', 'pap smear', 'female', 'angers', 'eyes', 'male', 'sex', 'about health care', 'health insurance', 'period', 'bellybutton', 'august', 'sleep', 'sleep disorders', 'recovery & post-op', 'ear', 'nose', 'after surgery', 'headaches', 'surgery', 'sinus surgery', 'after sinus surgery', 'nose  throat', 'attention disorders', 'abortion debate', 'abortion pregnancy', 'benefits of', 'abortions', 'abort', 'complications', 'medications', 'medication', 'abortion complications', 'abortion surgical', 'sexual health', 'atherosclerosis', 'body mass index', 'exercise', 'diet weight loss', 'thyroid health', 'weight loss', 'weight', 'loss', 'affect', 'tired', 'cosmetic health', 'cosmetic surgery, plastic surgery', 'shoulder pain', 'cosmetic surgery', 'plastic surgery', 'puberty', 'average', 'cream', 'skin', 'alternative', 'alternative to', 'alternative medicine', 'trauma', 'tumor', 'benign tumor', 'what is a benign tumor', 'back care', 'aconitum', 'anxiety', 'anxiety effects', 'fitness', 'pcos', 'food', 'best doctor', 'diet food', 'best diet', 'best diet food', 'best food diet', 'best diet for diabetes', 'diabetic diet', 'about diabetes', 'ibs', 'diet pills', 'atkins diet', 'b12 deficiency', 'afriend', 'acid', 'atkins diet information', 'b12 deficiency vitamin', 'anemia b12 deficiency', 'diets', 'diet  fitness', 'activity fitness', 'atkins bread', 'atkins diets', 'touch', 'neck', 'back tattoo', 'back neck', 'back and neck', 'body modification', 'diets and diet plans', 'nausea', 'symptoms', 'diet ideas', 'taking supplements', 'vitamins', 'act', 'acting out', 'banging', 'memory', 'stress', 'acting out behavior', 'depression treatment', 'treatment progress', 'grade school kids health', 'penis', 'penis growth', 'preteens', 'pediatrics', 'kids health and pediatrics', 'parenting', 'adolescence problems', 'all sides', 'parenting community', 'atm', 'about depression', 'sleep depression', 'broken hearted', 'ending a relationship', 'afford', 'angry kids', 'all kids', 'bad wife', 'all pump', 'bad kids', 'bad 4 good', 'family relationships', 'major depression', 'childhood', 'childhood depression', 'all about depression', 'anxiety and stress', 'stress anxiety', 'stressed out', 'yoga', 'appreciate your help', 'adequate', 'anal', 'ocd', 'anxiety overcome', 'anxiety forum', 'between legs', 'anxiety ocd', 'glbt relationships', 'advice depression', 'age concern', 'age women', 'grief and loss', 'treatment options', 'diagnosis', 'argument', 'alone', 'medical treatment', 'healthcare it', 'child medical treatment', 'single and struggling', 'nutrition', 'pregnancy fitness', 'pregnancy health', 'second pregnancy', 'before pregnancy', 'pregnancy fitness, health and nutrition', 'belly', 'aid', 'pregnancy problems', 'pregnancy exercise', 'single and pregnant', 'vaginal infection', 'pregnancies', 'infections', 'premature', 'stomach', 'vaginal', 'unprotected sex', 'become pregnant', 'normal period', 'depression during pregnancy', 'pregnancy depression', 'headaches during pregnancy', 'stress and headaches', 'postpartum depression', 'third trimester', 'progesterone', 'aggressive', 'headache', 'teen pregnancy', 'lump', 'breast lump', 'lactation', 'alleviate', 'infected', 'breastfeeding and nursing', 'pediatrician', 'about nursing', 'baby products', 'baby nursing', 'baby mother', 'baby forum', 'baby safe', 'baby new', 'baby care products', 'baby solid food', 'baby to sleep', 'baby 6 months', 'baby treatment', 'menstruation', 'pregnancy community chat', 'nipple', 'babies newborn', 'baby newborn', 'babies baby', 'baby month', 'newborn babies', 'antibiotic', 'babies cold', 'vomiting', 'babies vomiting', 'baby vomiting', 'back straight', 'babies eating', 'babies milk', 'feet', 'baby 12 months', 'baby 9 month', 'babies development', 'babies children', 'about children', 'babies infants', 'babies walking', 'baby children', 'infants', 'bowl movement', 'bowl', 'behavior in children', 'behavior children', 'behavior toddlers', 'behavior child', 'behavior be', 'toddlers', 'preschool', 'bone', 'preschool kids', 'tmj', 'hearing', 'apply', 'vision and eye disorders', 'neurological disorders', 'tuberculosis', 'fever', 'tb', 'mononucleosis', 'vegetarian', 'smoker', 'spleen', 'spleen pain', 'orthopedics', 'diarrhea', 'dietary', 'itchy', 'pancreas disorders', 'dental health', 'skin health', 'sinusitis', 'lung cancer', 'lung health', 'skin cancer', 'spleen symptoms', 'best health', 'best health food', 'contagious', 'contagious disease', 'vaccinated', 'measles and mumps', 'meningitis', 'sexual life', 'back ache', 'altering', 'chronic', 'edema', 'ache', 'genital warts', 'herpes', 'asymptomatic', 'oral herpes', 'genitals', 'mouth', 'herpes and genital warts', 'hiv and aids', 'high blood pressure', 'high blood pressure and hypertension', 'healthy eating', 'food and mood', 'tumors', 'abnormal cell', 'muscles', 'joints', 'inflammatory and abnormal cell disorders', 'thyroid gland', 'thyroid', 'swollen', 'fatigue', 'thyroid underactive', 'intestinal disorders', 'lupus', 'viral meningitis', 'cerebral palsy', 'memory loss', 'dizziness', 'bacteria', 'seizures', 'diseases', 'encephalitis', 'swelling', 'infertility', 'glands', 'angle', 'lumps', 'endocrine disorders', 'adhd or', 'bipolar', 'cystic fibrosis', 'anticipation', 'polyps', 'ask health question', 'sleep problem', 'air breathe', 'air health', 'recovery', 'diagnostic techniques, treatments', 'menopause', 'fibromyalgia', 'foot disorders', 'hair loss, hair disorders', 'hair', 'smell', 'pills', 'about hair loss', 'about fish', 'bad smell', 'all wash', 'genetic disorders', 'heart disease', 'heart attack', 'heart health', 'heart disease and heart attack', 'flu', 'cold and flu', 'cold, flu and viral infections', 'appendix and appendicitis', 'back pain', 'blood disorders', 'bladder', 'small intestine', 'intestine', 'gall bladder surgery', 'intestine disorders', 'bile duct disorders', 'rib cage', 'hear', 'intestines', 'broken bones', 'treatments', 'advisable', 'muscle', 'cerebral palsy treatment', 'baby cerebral palsy', 'gastro esophageal reflux disease', 'surgical procedure', 'keyhole surgery', 'stomach pains', 'benefit from', 'stomach acid', 'endoscopy', 'rehabilitation', 'accelerator', 'automatic', 'ability', 'sense', 'about cerebral palsy', 'best muscles', 'chronic fatigue syndrome', 'chronic fatigue', 'about masturbation', 'infectious', 'axis', 'eating disorders', 'cardio health', 'liver health', 'disorders and conditions', 'armpit', 'armpit female', 'celiac disease', 'stomach cancer', 'abdominal pain', 'stomach pain', 'blood tests', 'gastric', 'liver cancer', 'liver', 'liver disease', 'administer', 'cancer advice', 'before surgery', 'analysis', 'alpha', 'leukemia', 'radiation therapy', 'appears to be', 'chemotherapy', 'cancer cells', 'radiation', 'prostate cancer', 'prostate', 'ask the doctor', 'prostatectomy', 'beverages', 'caffeine', 'procedure', 'head', 'whipple procedure', 'cancer diagnosis', 'cancer tumor', 'pancreatic cancer', 'left arm', 'arm', 'back inflammation', 'pain medication', 'after cancer', 'cancer help', 'prostate health', 'testicular cancer', 'thyroid cancer', 'sexual desire', 'affect memory', 'kidney', 'bad smells', 'als', 'bad body odor', 'bath seat', 'bad odor', 'bath a', 'als, lou gehrig disease', 'pain management', 'birth control', 'birth control - men', 'sexual problems', 'bathroom idea', 'mens chat', 'antidepressant', 'baclofen', 'antidepressant citalopram', 'anxiety disability', 'anxiety medication', 'anxiety help', 'erectile dysfunction', 'lack of sensation', 'testosterone', 'abnormally', 'sex drive', 'orgasm', 'ulcer', 'chemo', 'radiation therapy for cancer', 'testicles', 'brain cancer', 'bone cancer', 'biopsy', 'night sweats', 'right arm', 'migrain', 'mental conditions', 'autism signs', 'autism', 'behavioral disorder', 'early intervention', 'alternating', 'behaviors', 'autism symptoms of', 'autistic children symptoms', 'autism symptoms children', 'autism and language', 'autism communication', 'behaviour children', 'behaviour problems', 'alphabet', 'autism children', 'adults autism', 'autism adults', 'all children', 'autism talk', 'autism work', 'autism and', 'age group', 'add', 'adhd', 'concerta', 'adhd add', 'add and adhd', 'advice parents', 'adhd parents', 'adhd doctor', 'advice love', 'adhd odd', 'add  and  adhd', 'add/adhd', 'dyslexia', 'smoking pot', 'smoking', 'abusive', 'bipolar help', 'bipolar relationships', 'anger help', 'anxiety bipolar disorder', 'about bipolar disorder', 'anxiety and bipolar disorder', 'anxiety disorder', 'anger disorder', 'anxiety anger', 'abruptly', 'anger outbursts', 'anger and bipolar disorder']\n",
      "2573 unique stemmed words ['!', '%', '&', \"'\", \"''\", \"'d\", \"'ll\", \"'m\", \"'re\", \"'s\", \"'ve\", '(', ')', '*******', ',', '-', '--', '-39', '-and', '.', '/', '0', '03', '07', '1', '1-2', '1-5', '1.', '10', '100', '107', '11', '110', '115', '12', '12.', '12/03/2012', '14', '140lbs', '15', '150', '16', '16.', '165', '17', '175', '18', '18.', '180', '1800', '18yrs', '19', '19.', '19weeks', '1:41', '1st', '2', '2-', '2-3x', '2-week', '2.', '20', '20-30', '200', '2008', '2010', '2012', '2012.', '2013', '2014', '2014.', '2015.', '2016', '2017', '20min', '21', '22', '23', '24', '249lbs', '25', '26', '27', '27/nl', '28', '29', '2and', '2diabet', '2nd', '2year', '3', '3-4', '3.', '30', '300', '300calorie', '31', '32', '33', '34ff', '35', '36', '36c', '37and', '38', '3d', '3rd', '3st', '4', '40', '40k', '41', '41-', '44.', '4months', '4th', '5', '500mg', '54', '54.', '55', '5\\\\', '5ft', '5in', '6', '6.', '60', '60lbs', '62', '65yrs', '6th', '7', '7-8', '7/nl', '8', '82', '9', '98', ':', ';', '<', '>', '@', '\\\\', '``', 'a', 'a.', 'ab/ag', 'abdom', 'abdomin', 'abl', 'abnorm', 'abort', 'about', 'abov', 'abrupt', 'abs', 'abscess', 'absolv', 'abud', 'abus', 'acc', 'acceiv', 'accel', 'accid', 'accord', 'ach', 'achalas', 'acid', 'acn', 'aconit', 'act', 'acupunct', 'acut', 'ad', 'adam', 'adamond', 'add/adhd', 'addit', 'address', 'adenocarcinom', 'adhd/ad', 'admin', 'adolesc', 'adult', 'adv', 'advers', 'advs', 'afect', 'affair', 'affect', 'afford', 'afgh', 'afp', 'afraid', 'afriend', 'aft', 'afterward', 'ag', 'ag/ab', 'again', 'aggrav', 'aggress', 'agit', 'ago', 'agony', 'agr', 'agress', 'air', 'al', 'alcohol', 'all.', 'allergy', 'allow', 'almost', 'almostal', 'alon', 'along', 'alot', 'aloud', 'alpha-fetoprotein', 'alphabet', 'already', 'also', 'alsp', 'altern', 'although', 'alway', 'am', 'ambidext', 'amount', 'an', 'anaem', 'analys', 'anatom', 'and', 'and/or', 'anem', 'ang', 'angin', 'angl', 'angry', 'anim', 'ankl', 'ankylos', 'annivers', 'annount', 'anorex', 'anosm', 'anoth', 'answ', 'antery', 'antibiot', 'antibody', 'anticip', 'antidepress', 'antig', 'anxy', 'any', 'anym', 'anyon', 'anyth', 'anyway', 'apart', 'aphag', 'apolog', 'appear', 'appendectom', 'appendicit', 'appendix', 'appetit', 'appl', 'apply', 'appoint', 'apprecy', 'approach', 'approx', 'appt', 'april', 'aprox', 'apyrex', 'ar', 'are', 'area', 'argu', 'aripip', 'arm', 'armpit', 'around', 'arthralg', 'arthrit', 'artic', 'as', 'asap', 'ascit', 'ask', 'ass', 'assault', 'assessment/plan', 'assign', 'assocy', 'assum', 'asterix', 'asthen', 'asymptom', 'at', 'atax', 'atkin', 'atleast', 'atm', 'attack', 'attemp', 'attempt', 'atyp', 'audit', 'aug', 'august', 'aur', 'aut', 'av', 'avocado', 'avoid', 'aw', 'await', 'awak', 'away', 'b12', 'b4', 'baby', 'back', 'baclof', 'bact', 'bacter', 'bactrim', 'bad', 'bad\\\\', 'bag', 'bal', 'bald', 'band', 'bang', 'bant', 'bar', 'bark', 'bas', 'basebal', 'bath', 'bathroom', 'battery', 'be', 'bear', 'beat', 'becam', 'becau', 'becaus', 'becom', 'bed', 'bedrid', 'been', 'bef', 'beg', 'begin', 'begun', 'behav', 'behavior/mood/feelings', 'behavy', 'behind', 'bein', 'being', 'bel', 'belev', 'believ', 'bellybutton', 'below', 'belt', 'benea', 'benefit', 'benign', 'best', 'bet', 'between', 'bf', 'bifid', 'big', 'biggest', 'bik', 'bil', 'bing', 'biopsy', 'bipol', 'bir', 'bit', 'black', 'blackout', 'blad', 'blam', 'blanch', 'blee', 'blo', 'block', 'blood', 'blotch', 'blur', 'blurry', 'boderlin', 'body', 'body/muscle', 'bodybuild', 'boil', 'bomb', 'bon', 'book', 'bor', 'born', 'both', 'bottom', 'bound', 'bowel', 'boy', 'boyfriend', 'bra', 'bradycard', 'bradykines', 'brain', 'brea', 'break', 'breakthrough', 'breast', 'breastfee', 'breastff', 'breastmilk', 'breath', 'breath-holding', 'breech', 'brib', 'bright', 'bring', 'brok', 'broth', 'brought', 'brown', 'bruit', 'brung', 'bubbl', 'buddy', 'build', 'bulim', 'bum', 'bump', 'burn', 'burn-out', 'burnt', 'burst', 'bus', 'busy', 'but', 'button', 'by', 'c', 'ca', 'cachex', 'caffein', 'cag', 'cal', 'calc', 'calf', 'calib', 'californ', 'calm', 'cam', 'can', 'cant', 'cap', 'caps', 'car', 'carb', 'carbohydr', 'carcinom', 'cardio', 'cardiomega', 'cardiovascul', 'carrot', 'carry', 'cartil', 'cartoon', 'cas', 'cast', 'cat', 'cataton', 'catch', 'caucas', 'caught', 'caus', 'cbc', 'cel', 'celiac', 'cellulit', 'cemo', 'cent', 'cerebr', 'certain', 'cerv', 'cf', 'chair', 'chalaz', 'chang', 'chant', 'char', 'charg', 'charleyhors', 'che', 'check', 'cheek', 'chemo', 'chemotherapy', 'chest', 'chi', 'chick', 'chil', 'child', 'childr', 'chiropract', 'chlymedia', 'chocol', 'chok', 'chrincic', 'chronic', 'cial', 'cic', 'circumf', 'cirrhos', 'citalopram', 'claim', 'clairvoy', 'clammy', 'class', 'claud', 'clavical/collarbone', 'cle', 'cleanup', 'clear', 'cli', 'clindamycin', 'clon', 'clos', 'clot', 'cloth', 'club', 'clumsy', 'clutch', 'cm', 'coach', 'codin', 'coel', 'coeliec', 'cognit', 'coincid', 'col', 'cold', 'colit', 'collect', 'colleg', 'collegy', 'colloid', 'colo', 'colonoscop', 'columb', 'com', 'combin', 'combo', 'common', 'comp', 'compel', 'complain', 'complaint', 'complet', 'comply', 'compound', 'compress', 'comput', 'conceiv', 'concern', 'concert', 'conclud', 'condit', 'condom', 'conduc', 'confirm', 'confus', 'connect', 'cons', 'conscy', 'consid', 'consist', 'const', 'constip', 'construct', 'consult', 'consum', 'cont', 'contact', 'contagy', 'contimpl', 'continu', 'continy', 'contribut', 'control', 'controvers', 'controversy', 'convers', 'convert', 'convint', 'cooky', 'coordin', 'cop', 'cor', 'corn', 'cos', 'cost', 'costudy', 'cough', 'could', 'couldnt', 'counls', 'counsel', 'count', 'country', 'coupl', 'cours', 'cov', 'cp', 'crackl', 'cramp', 'crap', 'crash', 'crav', 'crawl', 'crazy', 'cream', 'cred', 'cri', 'crohn', 'crook', 'cross', 'crowd', 'crush/to', 'crutch', 'cry', 'ct', 'ct.', 'cts', 'cub', 'cult', 'cum', 'cur', 'curvature/siz', 'cushingoid', 'custody', 'cut', 'cuz', 'cyanos', 'cyst', 'dad', 'dai', 'dairy', 'dam', 'dang', 'dant', 'dark', 'dat', 'daught', 'day', 'dayc', 'dea', 'dead', 'deadlin', 'deal', 'debilit', 'dec', 'decay', 'decid', 'decompens', 'decreas', 'deep', 'deficy', 'definit', 'degr', 'degrad', 'delh', 'demonst', 'demot', 'dent', 'dentit', 'deny', 'depress', 'desir', 'detail', 'detect', 'dev', 'devast', 'develop', 'dexamethason', 'diabet', 'diagnos', 'diagnost', 'diagonos', 'diarrhe', 'did', 'didnt', 'dieas', 'died', 'diet', 'diff', 'difficul', 'difficult', 'digest', 'digit', 'din', 'dipleg', 'direct', 'dis', 'disappear', 'discharg', 'disciplin', 'disclos', 'discomfort', 'discontinu', 'discret', 'discut', 'diseas', 'disease-', 'disequilibr', 'disgust', 'dish', 'dishwash', 'disobedy', 'disord', 'dissapear', 'dist', 'distend', 'distract', 'distress', 'disturb', 'divers', 'dizzy', 'dnt', 'do', 'doc', 'doct', 'doe', 'doesnt', 'dog', 'doh', 'doing', 'domin', 'don', 'donresp', 'dont', 'dos', 'dosnt', 'down', 'doz', 'dr', 'dr.', 'drag', 'dram', 'drama', 'drank', 'dream', 'drink', 'driv', 'dron', 'drool', 'drowsy', 'drug', 'dry', 'duc', 'due', 'dul', 'dump', 'dur', 'dwindl', 'dyer', 'dying', 'dynam', 'dysarthr', 'dysdiadochokines', 'dysesthes', 'dysfunct', 'dyslex', 'dyspareun', 'dyspne', 'dysur', 'e.', 'each', 'ear', 'earliest', 'eas', 'easy', 'eat', 'ebv', 'ecceiv', 'ecchymos', 'eczem', 'edg', 'educ', 'effect', 'effog', 'effort', 'eg', 'egophony', 'eith', 'ejac', 'eject', 'el', 'elect', 'electrolyt', 'elev', 'elimin', 'els', 'embarrass', 'emerg', 'emg', 'emot', 'emphysem', 'employ', 'end', 'endo', 'endometrios', 'endoscop', 'energy', 'eng', 'engl', 'enh', 'enjoy', 'enlarg', 'enough', 'enquiry', 'ens', 'ent', 'entir', 'entrepr', 'enures', 'environ', 'eosinophil', 'epididym', 'epidiym', 'episod', 'epithel', 'epithelios', 'eq', 'er', 'erect', 'erectil', 'erosive/ulcerativ', 'erythem', 'espec', 'estrog', 'et', 'etc', 'etc.', 'ev', 'every', 'every-time', 'everybody', 'everyday', 'everyth', 'everytim', 'eveyon', 'ex', 'exact', 'exam', 'examin', 'exampl', 'exc', 'exceiv', 'excess', 'excit', 'excrucy', 'excruty', 'exerc', 'exert', 'exhaust', 'expect', 'expert', 'expery', 'expl', 'explain', 'extend', 'extr', 'extract', 'extrapyramid', 'extrem', 'ey', 'eyebrow', 'eyedrop', 'eyelash', 'eziekiel', 'fac', 'fact', 'facy', 'fail', 'faint', 'fal', 'fals', 'fam', 'famy', 'fant', 'far', 'fast', 'fat', 'fath', 'fatig', 'fatigu', 'fatty', 'fault', 'fear', 'feat', 'feb.', 'fec', 'fecalur', 'fee', 'feel', 'feet', 'felt', 'fem', 'fet', 'fev', 'few', 'fiant', 'fibromyalg', 'fibul', 'fig', 'fight', 'fil', 'filt', 'fin', 'find', 'fing', 'fingertip', 'firend', 'first', 'firsty', 'fish', 'fit', 'fiv', 'fix', 'flap', 'flar', 'flash', 'flat', 'flax/olive', 'flex', 'flomax', 'floppy', 'flot', 'flu', 'fluid', 'flung', 'flush', 'fnac', 'foc', 'follow', 'food', 'foot', 'for', 'forget', 'forgot', 'form', 'forward', 'found', 'four', 'fract', 'frail', 'fre', 'freak', 'free', 'freez', 'fremit', 'frequ', 'frict', 'friday', 'friend', 'frm', 'from', 'front', 'frothy', 'frust', 'ful', 'full-time', 'fun', 'fundoply', 'funny', 'furth', 'fuss', 'fut', 'gag', 'gain', 'gait', 'gal', 'gallon', 'gasp', 'gast', 'gatorad', 'gav', 'gay', 'gdhawan1981', 'gear', 'gel', 'gen', 'gend', 'genit', 'gentl', 'get', 'ghonorre', 'giddy', 'girl', 'girlfriend', 'giv', 'gland', 'glass', 'glutun', 'gmail', 'go', 'goa', 'goe', 'going', 'goit', 'golf', 'gon', 'good', 'got', 'gp', 'grad', 'gradu', 'grain', 'gran', 'grasp', 'grass', 'grat', 'grav', 'gravid', 'gre', 'green', 'grocery', 'groggy', 'gross', 'ground', 'group', 'grow', 'grown', 'guaiac', 'guid', 'guk', 'gurgl', 'guss', 'guy', 'gym', 'gyno', 'h', 'habit', 'hack', 'had', 'haemoptys', 'haemorrh', 'hair', 'half', 'hallucin', 'hand', 'handl', 'hap', 'happy', 'hard', 'hardhip', 'harm', 'has', 'hat', 'hav', 'hcc', 'he', 'he\\\\', 'hea', 'head', 'headach', 'heal', 'healthy', 'hear', 'heard', 'heart', 'heartburn', 'heavy', 'heberd', 'heel', 'height', 'hej', 'held', 'hello', 'hello-', 'help', 'hem', 'hematochez', 'hematocrit', 'hematur', 'hemianops', 'hemipleg', 'hemodynam', 'hent', 'hepatomega', 'hepatosplenomega', 'her', 'herp', 'herself', 'hes', 'hesit', 'hey', 'hi', 'high', 'high-pressure', 'hik', 'him', 'himself', 'hirsut', 'his', 'hiss', 'hist', 'histopatholog', 'hit', 'hiv', 'hmo', 'hoard', 'hoars', 'hol', 'hold', 'holiday', 'hom', 'homeless', 'homeopath', 'hometown', 'homicid', 'homonym', 'hon', 'honest', 'honeymoon', 'hook', 'hop', 'hopeless', 'hormon', 'horr', 'hospit', 'hospital-the', 'hospital/health', 'hot', 'hot/feverish', 'hour', 'hoursâ\\x80¦doctors', 'hous', 'how', 'howev', 'hpv', 'hrt', 'hs', 'hsv1', 'hug', 'hung', 'hungry', 'hunt', 'hurt', 'husband', 'hydropneumothorax', 'hyoid', 'hyperact', 'hyperacus', 'hypercapn', 'hyperchromas', 'hyperemes', 'hyperhidros', 'hyperintens', 'hyperkalem', 'hypersomn', 'hypersomnol', 'hyperthyroid', 'hyperton', 'hypertroph', 'hyperventil', 'hypesthes', 'hypo', 'hypoalbuminem', 'hypocalcem', 'hypoglycaem', 'hypoglycem', 'hypokalem', 'hypokines', 'hypometabol', 'hyponatrem', 'hypoproteinem', 'hypotend', 'hypotherm', 'hypoton', 'hypoxem', 'i', 'iam', 'ic', 'icter', 'ide', 'idea', 'ident', 'idk', 'if', 'if=n', 'ig', 'igm', 'il', 'ill.', 'illeg', 'illn', 'im', 'imagin', 'immobl', 'immod', 'immun', 'immunolog', 'impact', 'impair', 'imposs', 'impot', 'impress', 'improv', 'in', 'inappropry', 'inbetween', 'inch', 'incid', 'includ', 'incoh', 'incontin', 'increas', 'ind', 'index', 'indiff', 'inf', 'infect', 'infections-', 'infenct', 'infilt', 'inflam', 'info', 'inform', 'ing', 'inguin', 'init', 'inject', 'injury', 'inop', 'inr', 'ins', 'insert', 'insid', 'insight', 'inst', 'instead', 'instruct', 'insult', 'intact', 'intellig', 'intens', 'interact', 'intercours', 'interest', 'intermenst', 'intermit', 'interrupt', 'interv', 'intestin', 'into', 'intol', 'intox', 'introduc', 'invas', 'invert', 'involv', 'iodin', 'iraq', 'iron', 'irregul', 'irrep', 'irrit', 'is', 'isnt', 'isol', 'issu', 'isthm', 'it', 'it\\\\', 'ita', 'iud', 'iv', 'iwa', 'jab', 'jail', 'janu', 'jaw', 'jeal', 'jeopard', 'jit', 'job', 'joint', 'jugul', 'juic', 'july', 'jumbl', 'jun', 'junk', 'jus', 'just', 'k2', 'k3', 'kar', 'keep', 'kemo', 'kept', 'kfc', 'kg', 'kick', 'kid', 'kidney', 'kind', 'kiss', 'kne', 'knew', 'knot', 'know', 'knowledg', 'known', 'lab', 'lack', 'laid', 'lam', 'lansoprazol', 'larg', 'large-for-dates', 'larry', 'lasik', 'last', 'lat', 'latley', 'laud', 'laugh', 'laught', 'lay', 'lb', 'lbs', 'lead', 'leak', 'learn', 'least', 'leav', 'left', 'leg', 'legitim', 'lemon/celery/apple', 'lentil', 'les', 'less', 'let', 'lethargy', 'leukocytos', 'level', 'levitr', 'levothyroxin', 'lied', 'lif', 'lift', 'light', 'lighthead', 'lik', 'limb', 'limit', 'lin', 'ling', 'lip', 'lipomo', 'list', 'lit', 'littl', 'liv', 'lo', 'lob', 'loc', 'lock', 'log', 'lol', 'long', 'look', 'loos', 'los', 'loss', 'lost', 'lot', 'loud', 'lov', 'low', 'lump', 'lumpy', 'lunch', 'lung', 'lup', 'lying', 'lymph', 'm.', 'mac', 'machin', 'macrocytos', 'mad', 'mag', 'magn', 'maintain', 'maj', 'mak', 'mal', 'mala', 'malign', 'malocclud', 'man', 'mand', 'many', 'mar/apr', 'march', 'mark', 'marrig', 'marrow', 'marry', 'masculin', 'mass', 'masturb', 'mat', 'materil', 'math', 'maxillio', 'may', 'mayb', 'mba', 'mcburney', 'mcv', 'me', 'meal', 'mean', 'meanwhil', 'meas', 'meat', 'med', 'mediastin', 'medical-abortion', 'medicin', 'medit', 'meet', 'melingt', 'mem', 'memb', 'membr', 'men', 'meningit', 'menopaus', 'menstru', 'ment', 'menton', 'met', 'metaplas', 'metast', 'metformin', 'methados', 'mg', 'mgg', 'microscop', 'microwav', 'micturit', 'middl', 'might', 'migrain', 'mil', 'mild', 'milk', 'milky', 'mily', 'min', 'mind', 'minim', 'minut', 'mir', 'misdiagnos', 'misery', 'misinform', 'miss', 'mistak', 'misunderstand', 'mixt', 'mm', 'moan', 'moch', 'mol', 'mom', 'mon', 'money', 'monoclon', 'monocytos', 'monolid', 'month', 'month-', 'mood', 'moody', 'mor', 'moreov', 'morn', 'morphin', 'most', 'mot', 'moth', 'mother-in-law', 'motor-bike', 'mou', 'mountain', 'mov', 'mri', 'mth', 'muc', 'much', 'muffl', 'multipl', 'multivitain', 'mum', 'mump', 'murm', 'murph', 'musc', 'must', 'my', 'myalg', 'mydrias', 'myelom', 'myoclon', 'myself', 'myslef', 'n', \"n't\", 'na', 'nag', 'nail', 'nail/', 'nail/rod', 'nam', 'naprox', 'narcot', 'nas', 'nat', 'naus', 'nause', 'nausy', 'navel', 'ne', 'near', 'necess', 'neck', 'nee', 'neg', 'negative/antibody', 'negative/nonreactiv', 'negative_smiley', 'neighb', 'neolog', 'neoplast', 'nephew', 'nerv', 'neurosurgeon', 'neutrophil', 'nev', 'new', 'newest', 'next', 'ngat', 'nic', 'night', 'nightm', 'nineteen', 'nippl', 'nit', 'nl', 'no', 'no-carb', 'nod', 'nodul', 'noisy', 'non', 'non-billable', 'non-productive', 'non-un', 'nonsmok', 'nor', 'nordet', 'norm', 'normal', 'nortriptylin', 'nos', 'nose/throat', 'not', 'noth', 'nov', 'now', 'nowh', 'np', 'nsaid', 'nuclear', 'numb', 'nurs', 'nut', 'ny', 'o', 'oatm', 'observ', 'obvy', 'occ', 'occas', 'occupy', 'ocd', 'od', 'oesphagit', 'of', 'ofcours', 'off', 'oflipomo', 'oft', 'oh', 'oil', 'ok', 'okay', 'old', 'oligur', 'omeg', 'on', 'oncologyst', 'onlin', 'ont', 'op', 'opin', 'opportun', 'opposit', 'opt', 'or', 'orangey', 'ord', 'org', 'orgasm', 'origin', 'ortho', 'orthopne', 'orthostas', 'ory', 'otc', 'oth', 'otherw', 'our', 'out', 'outbreak', 'outburst', 'outcom', 'outsid', 'outward', 'ov', 'overact', 'overcom', 'overweight', 'overwhelm', 'own', 'oxycotin', 'p.', 'p24', 'pag', 'pain', 'painkil', 'pair', 'pal', 'palpit', 'palsy', 'pan', 'pancr', 'pancrea', 'pancreatit', 'panel', 'panick', 'pansinusit', 'pansystol', 'pap', 'papil', 'par', 'paradox', 'paralys', 'paranas', 'paranoid', 'parapares', 'parathyroid', 'pares', 'paresthes', 'parson', 'part', 'partic', 'particip', 'particul', 'partn', 'pass', 'past', 'patholog', 'pattern', 'paty', 'pay', 'pco', 'pcr', 'pea', 'pect', 'pedy', 'pee', 'pelv', 'pen', 'peopl', 'per', 'percocet', 'perfect', 'perform', 'pericard', 'period', 'periorbit', 'person', 'pertain', 'phas', 'phentermin', 'pheumon', 'phonophob', 'photophob', 'photops', 'phys', 'physiotherap', 'pick', 'piec', 'pierc', 'pil', 'pin-point', 'pinyin', 'pit', 'pitch', 'pl', 'plac', 'plant', 'plaus', 'play', 'pleas', 'pleurit', 'pls', 'plu', 'plz', 'pneumatour', 'pock', 'point', 'pointless', 'pointy', 'polyc', 'polydyps', 'polymyalg', 'polyp', 'polyur', 'pool', 'poop', 'poor', 'pop', 'porch', 'pork', 'port', 'posit', 'positive_smiley', 'poss', 'post', 'postery', 'pot', 'potato', 'potty', 'pow', 'powd', 'pract', 'pre-diabetic', 'pre-nup', 'prec', 'prednison', 'predomin', 'preform', 'pregabalin', 'pregn', 'pren', 'pres', 'prescrib', 'presrib', 'press', 'pretty', 'prev', 'prevy', 'pri', 'primigravid', 'priscrib', 'prob', 'probiot', 'problem', 'proc', 'process', 'procrastin', 'prodrom', 'produc', 'profess', 'program', 'progress', 'prohibit', 'projectil', 'prolong', 'prom', 'promin', 'pron', 'proof', 'prop', 'prost', 'prostatectom', 'protein', 'proteinem', 'proty', 'prov', 'provid', 'prp', 'prurit', 'pssible', 'psychy', 'psycos', 'pt', 'ptb', 'puberty', 'pul', 'puls', 'pump', 'pun', 'punch', 'pupil', 'pur', 'purchas', 'pursu', 'push', 'pust', 'put', 'q', 'qt', 'qual', 'quest', 'quino', 'quit', 'r', 'r.', 'rad', 'radioact', 'rady', 'rai', 'rais', 'ral', 'rambl', 'ran', 'random', 'rapid', 'rar', 'rath', 'raw', 're', 're-appear', 'rea', 'react', 'read', 'real', 'rear', 'reason', 'reass', 'rebuild', 'rec', 'receiv', 'recharg', 'recogn', 'recommend', 'recov', 'rect', 'recur', 'red', 'reduc', 'reductil', 'refer', 'refil', 'reflect', 'reflux', 'refus', 'reg', 'regul', 'regurgit', 'rel', 'relaps', 'relax', 'releas', 'relev', 'reliev', 'relig', 'religy', 'remain', 'remedy', 'rememb', 'remid', 'remind', 'remov', 'ren', 'reocc', 'reoccur', 'rep', 'replac', 'reply', 'reput', 'request', 'requir', 'res', 'rescu', 'research', 'resist', 'resolv', 'resouc', 'respir', 'respons', 'responsibil', 'rest', 'restart', 'restless', 'result', 'ret', 'retard', 'retch', 'retropuls', 'return', 'rev', 'revers', 'reward', 'rhd', 'rheumatolog', 'rhinorrhe', 'rhonch', 'rhythm', 'rib', 'ric', 'rice-lik', 'rid', 'rig', 'right', 'ring', 'risk', 'road', 'roberto', 'rod', 'rol', 'roller-coast', 'roman', 'room', 'rot', 'rough', 'routin', 'rub', 'rul', 'run', 'rupt', 'rx', 's', 'sad', 'saf', 'said', 'sal', 'sam', 'sampl', 'saturday', 'saty', 'sav', 'saw', 'say', 'scal', 'scalp', 'scan', 'scanty', 'scar', 'schizophrenia', 'school', 'sciatic', 'scleral', 'scolios', 'scoot', 'scratch', 'scratched', 'screams', 'seafood', 'sear', 'seat', 'second', 'secret', 'sed', 'see', 'seek', 'seem', 'seen', 'seg', 'seiz', 'self-pay', 'sem', 'senco', 'send', 'sens', 'sensit', 'sent', 'septemb', 'sery', 'sess', 'sesss', 'settl', 'sev', 'sex', 'shaft', 'shaky', 'shallow', 'shap', 'shar', 'shard', 'sharp', 'she', 'shed', 'shift', 'ship', 'shirt', 'shock', 'shoot', 'shop', 'shoplift', 'short', 'shot', 'should', 'shout', 'show', 'shrink', 'sick', 'sid', 'sign', 'sil', 'simil', 'simpl', 'simult', 'sin', 'sinemet', 'singl', 'sint', 'sinus', 'sist', 'sit', 'situ', 'situt', 'six', 'sixteen', 'siz', 'skin', 'skip', 'skyp', 'slap', 'slash', 'sleep', 'sleep/pain', 'sleepless', 'sleepy', 'slight', 'slightest', 'slow', 'slug', 'slur', 'smack', 'smal', 'smear', 'smel', 'smil', 'smok', 'sms', 'snap', 'sneez', 'sniffl', 'snor', 'snuffl', 'so', 'soak', 'socy', 'sod', 'soft', 'solid', 'solit', 'solv', 'som', 'someon', 'someth', 'sometim', 'somewh', 'somth', 'son', 'soon', 'sophom', 'sor', 'sort', 'sound', 'sourc', 'spac', 'spasm', 'spast', 'speak', 'spec', 'spee', 'speech', 'spel', 'spent', 'spin', 'spinach', 'spironolacton', 'spit', 'spleen', 'splenic', 'splenomegaly', 'split', 'spliting', 'spn', 'spondylit', 'spont', 'sport', 'spot', 'sprain', 'spread', 'spur', 'sput', 'st', 'stabl', 'stag', 'stahl', 'stain', 'stair', 'stand', 'standard', 'start', 'start/feel', 'stat', 'stay', 'std', 'ste', 'steel', 'stem', 'step', 'stepmom', 'stiff', 'stil', 'sting', 'sting-like', 'stint', 'stir', 'stol', 'stomach', 'ston', 'stong', 'stool', 'stop', 'straight', 'stranding', 'strands', 'strange', 'straps', 'stream', 'strenuous', 'stress', 'stressed', 'stressing', 'stretch', 'stretching', 'strick', 'stridor', 'strike', 'strikes', 'strip', 'strong', 'stronger', 'strongly', 'structure', 'struggles', 'stubberin', 'stuck', 'stud', 'study', 'stuff', 'stuffy', 'stump', 'stun', 'stup', 'stupid', 'sty', 'styl', 'subcut', 'subject', 'subsequ', 'substitut', 'subtl', 'success', 'such', 'sud', 'sudarsh', 'suff', 'sug', 'sugest', 'suggest', 'suicid', 'sunday', 'superimposit', 'suppl', 'supplements/vitamin', 'support', 'suppos', 'sur', 'surfac', 'surg', 'surgeon', 'surgery', 'surgical-abortion', 'suspect', 'swallow', 'swap', 'swe', 'sweet', 'swel', 'swing', 'swol', 'symptom', 'symtom', 'syncop', 'syndrom', 'syrup', 'system', 'systol', 't', 't1', 't1n0m0', 'ta', 'tab', 'tabl', 'tablet', 'tachypne', 'tak', 'talk', 'tast', 'tattoo', 'taught', 'tb', 'tea', 'teach', 'tee', 'teen', 'teh', 'tel', 'telog', 'temperature-associated', 'ten', 'tend', 'tenesm', 'tens', 'term', 'terr', 'test', 'testic', 'testosteron', 'thalidomide/pomalyst', 'than', 'thank', 'thanksg', 'thankyou', 'thansk', 'that', 'the', 'their', 'them', 'themselv', 'then', 'thensev', 'ther', 'therap', 'therapy', 'theref', 'thes', 'they', 'thi', 'thick', 'thigh', 'thin', 'thing', 'think', 'third', 'tho', 'thorough', 'thos', 'though', 'thought', 'threats', 'three', 'throat', 'throbbing', 'thrombocites', 'through', 'throughout', 'throught', 'throw', 'thrush', 'thursday', 'thx', 'thyroid', 'thyroidectom', 'ti', 'tib', 'tick', 'tie', 'tight', 'til', 'tim', 'timesheet', 'tingl', 'tinnit', 'tiny', 'tir', 'tissu', 'titub', 'tjm', 'tmjd', 'to', 'tod', 'today', 'toe', 'togeath', 'togeth', 'toilet', 'told', 'tomorrow', 'ton', 'tonight', 'too', 'took', 'toothach', 'top', 'tors', 'tot', 'touch', 'toward', 'trache', 'tradit', 'trail', 'train', 'transaminit', 'transluc', 'transmit', 'transpl', 'transsex', 'trap', 'traum', 'travel', 'tre', 'trea', 'trem', 'tri', 'trick', 'tricyc', 'triglecerid', 'trim', 'trisom', 'troubl', 'trust', 'try', 'tubalig', 'tum', 'tummy', 'turkey', 'turn', 'tut', 'tv', 'twist', 'twitch', 'two', 'typ', 'u', 'ulc', 'ultrasound', 'un', 'unc', 'uncertain', 'uncomfort', 'unconscy', 'uncontrol', 'uncoordin', 'und', 'underact', 'undergo', 'undergon', 'understand', 'underw', 'underweight', 'undevelop', 'unfit', 'unhappy', 'unil', 'unit', 'univers', 'unrespond', 'unst', 'unsteady', 'until', 'unus', 'unwel', 'unworthy', 'up', 'upd', 'upon', 'upright', 'upset', 'upward', 'ure', 'urg', 'urin', 'urinom', 'urolog', 'us', 'useless', 'v', 'vac', 'vaccin', 'vagin', 'vain', 'vary', 'vasectom', 'veg', 'veget', 'vein', 'veloc', 'ven', 'vent', 'verb', 'vertigo', 'very', 'viabl', 'viagr', 'vib', 'video', 'view', 'vir', 'vis', 'visit', 'vitamin', 'voic', 'volt', 'vomit', 'waight', 'wait', 'wak', 'wal', 'walk', 'walnut', 'wan', 'want', 'warm', 'was', 'wash', 'wat', 'watch', 'water/electic', 'wav', 'way', 'wbc', 'we', 'weak', 'wear', 'web', 'websit', 'wed', 'wednesday', 'week', 'weepy', 'weigh', 'weight', 'weird', 'wel', 'welcom', 'well-needed', 'welt', 'wen', 'went', 'wer', 'werid', 'what', 'wheelchair', 'wheez', 'when', 'whenev', 'wher', 'wheth', 'which', 'whil', 'whilst', 'whit', 'who', 'whol', 'whom', 'why', 'wich', 'wid', 'wif', 'wil', 'wild', 'win', 'window', 'windpip', 'wip', 'wippl', 'wisdom', 'wish', 'wit', 'with', 'withdraw', 'withdrawl', 'withdrawn', 'within', 'without', 'wiv', 'wk', 'wo', 'wok', 'wom', \"won\\\\'t\", 'wond', 'wont', 'woory', 'wor', 'word', 'work', 'workout', 'world', 'worry', 'wors', 'worst', 'worthless', 'would', 'wound', 'wreck', 'wrist', 'writ', 'wrong', 'x-ray', 'xray', 'yard', 'ye', 'year', 'yeast', 'yel', 'yellow', 'yellowy', 'yestday', 'yesterday', 'yet', 'yo', 'yog', 'you', 'young', 'youtub', 'yr']\n"
     ]
    }
   ],
   "source": [
    "words = []\n",
    "classes = []\n",
    "documents = []\n",
    "ignore_words = ['?']\n",
    "# loop through each sentence in our intents patterns\n",
    "for intent in intents['intents']:\n",
    "    for pattern in intent['patterns']:\n",
    "        # tokenize each word in the sentence\n",
    "        w = nltk.word_tokenize(pattern)\n",
    "        # add to our words list\n",
    "        words.extend(w)\n",
    "        # add to documents in our corpus\n",
    "        documents.append((w, intent['tag']))\n",
    "        # add to our classes list\n",
    "        if intent['tag'] not in classes:\n",
    "            classes.append(intent['tag'])\n",
    "\n",
    "# stem and lower each word and remove duplicates\n",
    "words = [stemmer.stem(w.lower()) for w in words if w not in ignore_words]\n",
    "words = sorted(list(set(words)))\n",
    "\n",
    "# remove duplicates\n",
    "#classes = sorted(list(set(classes)))\n",
    "\n",
    "print (len(documents), \"documents\")\n",
    "print (len(classes), \"classes\", classes)\n",
    "print (len(words), \"unique stemmed words\", words)"
   ]
  },
  {
   "cell_type": "code",
   "execution_count": 5,
   "metadata": {},
   "outputs": [],
   "source": [
    "training = []\n",
    "output = []\n",
    "\n",
    "output_empty = [0] * len(classes)\n",
    "\n",
    "for doc in documents:\n",
    "    bag = []\n",
    "    \n",
    "    pattern_words = doc[0]\n",
    "    pattern_words = [stemmer.stem(word.lower()) for word in pattern_words]\n",
    "    \n",
    "    for w in words:\n",
    "        bag.append(1) if w in pattern_words else bag.append(0)\n",
    "\n",
    "    # output is a '0' for each tag and '1' for current tag\n",
    "    output_row = list(output_empty)\n",
    "    output_row[classes.index(doc[1])] = 1\n",
    "\n",
    "    training.append([bag, output_row])\n",
    "\n",
    "random.shuffle(training)\n",
    "training = np.array(training)\n",
    "\n",
    "train_x = list(training[:,0])\n",
    "train_y = list(training[:,1])"
   ]
  },
  {
   "cell_type": "code",
   "execution_count": 6,
   "metadata": {},
   "outputs": [
    {
     "name": "stdout",
     "output_type": "stream",
     "text": [
      "Training Step: 389999  | total loss: \u001b[1m\u001b[32m2.77924\u001b[0m\u001b[0m | time: 0.911s\n",
      "| Adam | epoch: 1000 | loss: 2.77924 - acc: 0.0808 -- iter: 3112/3113\n",
      "Training Step: 390000  | total loss: \u001b[1m\u001b[32m2.74532\u001b[0m\u001b[0m | time: 0.914s\n",
      "| Adam | epoch: 1000 | loss: 2.74532 - acc: 0.1102 -- iter: 3113/3113\n",
      "--\n",
      "INFO:tensorflow:/Users/reynadoerwald/Desktop/Honours/medical-chatbot/scripts/model.tflearn is not in all_model_checkpoint_paths. Manually adding it.\n"
     ]
    }
   ],
   "source": [
    "tf.reset_default_graph()\n",
    "\n",
    "net = tflearn.input_data(shape=[None, len(train_x[0])])\n",
    "net = tflearn.fully_connected(net, 8)\n",
    "net = tflearn.fully_connected(net, 8)\n",
    "net = tflearn.fully_connected(net, len(train_y[0]), activation='softmax')\n",
    "net = tflearn.regression(net)\n",
    "\n",
    "model = tflearn.DNN(net, tensorboard_dir='tflearn_logs')\n",
    "\n",
    "model.fit(train_x, train_y, n_epoch=1000, batch_size=8, show_metric=True)\n",
    "model.save('model.tflearn')"
   ]
  },
  {
   "cell_type": "code",
   "execution_count": null,
   "metadata": {},
   "outputs": [],
   "source": [
    "def clean_up_sentence(sentence):\n",
    "    sentence_words = nltk.word_tokenize(sentence)\n",
    "\n",
    "    sentence_words = [stemmer.stem(word.lower()) for word in sentence_words]\n",
    "    return sentence_words\n",
    "\n",
    "# return bag of words array: 0 or 1 for each word in the bag that exists in the sentence\n",
    "def bow(sentence, words, show_details=False):\n",
    "    sentence_words = clean_up_sentence(sentence)\n",
    "\n",
    "    bag = [0]*len(words)  \n",
    "    for s in sentence_words:\n",
    "        for i,w in enumerate(words):\n",
    "            if w == s: \n",
    "                bag[i] = 1\n",
    "                if show_details:\n",
    "                    print (\"found in bag: %s\" % w)\n",
    "\n",
    "    return(np.array(bag))"
   ]
  },
  {
   "cell_type": "code",
   "execution_count": 8,
   "metadata": {},
   "outputs": [
    {
     "name": "stdout",
     "output_type": "stream",
     "text": [
      "[0 0 0 0 0 0 0 0 0 0 0 0 0 0 0 0 0 0 0 0 0 0 0 0 0 0 0 0 0 0 0 0 0 0 0 0 0\n",
      " 0 0 0 0 0 0 0 0 0 0 0 0 0 0 0 0 0 0 0 0 0 0 0 0 0 0 0 0 0 0 0 0 0 0 0 0 0\n",
      " 0 0 0 0 0 0 0 0 0 0 0 0 0 0 0 0 0 0 0 0 0 0 0 0 0 0 0 0 0 0 0 0 0 0 0 0 0\n",
      " 0 0 0 0 0 0 0 0 0 0 0 0 0 0 0 0 0 0 0 0 0 0 0 0 0 0 0 0 0 0 0 0 0 0 0 0 0\n",
      " 0 0 0 0 0 0 0 0 0 0 0 0 0 0 0 0 0 0 0 0 0 0 0 0 0 0 0 0 0 0 0 0 0 0 0 0 0\n",
      " 0 0 0 0 0 0 0 0 0 0 0 0 0 0 0 0 0 0 0 0 0 0 0 0 0 0 0 0 0 0 0 0 0 0 0 0 0\n",
      " 0 0 0 0 0 0 0 0 0 0 0 0 0 0 0 0 0 0 0 0 0 0 0 0 0 0 0 0 0 0 0 0 0 0 0 0 0\n",
      " 0 0 0 0 0 0 0 0 0 0 0 0 0 0 0 0 0 0 0 0 0 0 0 0 0 0 0 0 0 0 0 0 0 0 0 0 0\n",
      " 0 0 0 1 0 0 0 0 0 0 0 0 0 0 0 0 0 0 0 0 0 0 0 0 0 0 0 0 0 0 0 0 0 0 0 0 0\n",
      " 0 0 0 0 0 0 0 0 0 0 0 0 0 0 0 0 0 0 0 0 0 0 0 0 0 0 0 0 0 0 0 0 0 0 0 0 0\n",
      " 0 0 0 0 0 0 0 0 0 0 0 0 0 0 0 0 0 0 0 0 0 0 0 0 0 0 0 0 0 0 0 0 0 0 0 0 0\n",
      " 0 0 0 0 0 0 0 0 0 0 0 0 0 0 0 0 0 0 0 0 0 0 0 0 0 0 0 0 0 0 0 0 0 0 0 0 0\n",
      " 0 0 0 0 0 0 0 0 0 0 0 0 0 0 0 0 0 0 0 0 0 0 0 0 0 0 0 0 0 0 0 0 0 0 0 0 0\n",
      " 0 0 0 0 0 0 0 0 0 0 0 0 0 0 0 0 0 0 0 0 0 0 0]\n",
      "['hypertensive disease', 'diabetes', 'depression mental', 'depressive disorder', 'coronary arteriosclerosis', 'coronary heart disease', 'pneumonia', 'failure heart congestive', 'accident cerebrovascular', 'asthma', 'myocardial infarction', 'hypercholesterolemia', 'infection', 'infection urinary tract', 'anemia', 'chronic obstructive airway disease', 'dementia', 'insufficiency renal', 'confusion', 'degenerative polyarthritis', 'hypothyroidism', 'anxiety state', 'malignant neoplasms', 'primary malignant neoplasm', 'acquired immuno-deficiency syndrome', 'HIV', 'hiv infections', 'cellulitis', 'gastroesophageal reflux disease', 'septicemia', 'systemic infection', 'sepsis (invertebrate)', 'deep vein thrombosis', 'dehydration', 'neoplasm', 'embolism pulmonary', 'epilepsy', 'cardiomyopathy', 'chronic kidney failure', 'carcinoma', 'hepatitis ', 'peripheral vascular disease', 'psychotic disorder', 'hyperlipidemia', 'bipolar disorder', 'obesity', 'ischemia', 'cirrhosis', 'exanthema', 'benign prostatic hypertrophy', 'kidney failure acute', 'mitral valve insufficiency', 'arthritis', 'bronchitis', 'hemiparesis', 'osteoporosis', 'transient ischemic attack', 'adenocarcinoma', 'paranoia', 'pancreatitis', 'incontinence', 'paroxysmal dyspnea', 'hernia', 'malignant neoplasm of prostate', 'carcinoma prostate', 'edema pulmonary', 'lymphatic diseases', 'stenosis aortic valve', 'malignant neoplasm of breast', 'carcinoma breast', 'schizophrenia', 'diverticulitis', 'overload fluid', 'ulcer peptic', 'osteomyelitis', 'gastritis', 'bacteremia', 'failure kidney', 'sickle cell anemia', 'failure heart', 'upper respiratory infection', 'hepatitis', 'hypertension pulmonary', 'deglutition disorder', 'gout', 'thrombocytopaenia', 'hypoglycemia', 'pneumonia aspiration', 'colitis', 'diverticulosis', 'suicide attempt', 'Pneumocystis carinii pneumonia', 'hepatitis B', 'parkinson disease', 'lymphoma', 'hyperglycemia', 'encephalopathy', 'tricuspid valve insufficiency', \"Alzheimer's disease\", 'candidiasis', 'oralcandidiasis', 'neuropathy', 'kidney disease', 'fibroid tumor', 'glaucoma', 'neoplasm metastasis', 'malignant tumor of colon', 'carcinoma colon', 'ketoacidosis diabetic', 'tonic-clonic epilepsy', 'tonic-clonic seizures', 'respiratory failure', 'melanoma', 'gastroenteritis', 'malignant neoplasm of lung', 'carcinoma of lung', 'manic disorder', 'personality disorder', 'primary carcinoma of the liver cells', 'emphysema pulmonary', 'hemorrhoids', 'spasm bronchial', 'aphasia', 'obesity morbid', 'pyelonephritis', 'endocarditis', 'effusion pericardial', 'pericardial effusion body substance', 'chronic alcoholic intoxication', 'pneumothorax', 'delirium', 'neutropenia', 'hyperbilirubinemia', 'influenza', 'dependence', 'thrombus', 'cholecystitis', 'hernia hiatal', 'migraine disorders', 'pancytopenia', 'cholelithiasis', 'biliary calculus', 'tachycardia sinus', 'ileus', 'adhesion', 'delusion', 'affect labile', 'decubitus ulcer']\n"
     ]
    }
   ],
   "source": [
    "p = bow(\"Nausea\", words)\n",
    "print (p)\n",
    "print (classes)"
   ]
  },
  {
   "cell_type": "code",
   "execution_count": 9,
   "metadata": {},
   "outputs": [
    {
     "name": "stdout",
     "output_type": "stream",
     "text": [
      "[[2.16174126e-02 1.55766020e-02 7.35619915e-06 7.86964483e-06\n",
      "  4.70084924e-05 5.12259976e-05 6.54667092e-05 5.86903298e-07\n",
      "  7.83213109e-05 6.95861445e-06 5.94123208e-04 3.61351436e-03\n",
      "  1.64364756e-03 5.91994067e-05 8.64345022e-03 4.22146620e-08\n",
      "  3.30386544e-03 4.66482108e-03 1.57982548e-04 3.29718925e-03\n",
      "  5.92789380e-03 2.59641733e-04 2.17310037e-03 1.98495435e-03\n",
      "  7.47508238e-05 8.14281520e-05 8.36752879e-05 1.30512950e-03\n",
      "  5.50307222e-02 2.35257430e-05 2.22284816e-05 2.22799918e-05\n",
      "  1.56587979e-03 1.93243530e-02 4.20500385e-03 2.03523014e-04\n",
      "  4.23450838e-05 2.24228628e-04 2.44551175e-03 9.55077261e-03\n",
      "  8.77417642e-06 1.19723019e-03 2.49278492e-06 6.51820423e-03\n",
      "  4.14678607e-06 1.74378720e-03 2.57474184e-03 9.50049981e-03\n",
      "  1.96210039e-03 3.50732007e-05 6.90158573e-04 1.63574107e-02\n",
      "  5.61038440e-04 1.92278294e-05 3.19314349e-05 4.86863498e-03\n",
      "  2.29645681e-04 6.53051026e-03 7.52697986e-07 4.73901816e-02\n",
      "  3.21702770e-04 3.45176013e-05 2.90473830e-02 2.70115817e-03\n",
      "  2.68983399e-03 6.82644721e-04 9.18891164e-04 1.33033423e-03\n",
      "  5.02073497e-04 5.22170682e-04 1.53180565e-07 6.77165464e-02\n",
      "  2.06417753e-05 4.96784113e-02 2.65058409e-03 2.93650180e-02\n",
      "  2.31905817e-03 1.69402047e-05 3.16331419e-03 7.84675012e-06\n",
      "  8.96734418e-05 2.00320384e-03 3.10468749e-05 2.72161615e-05\n",
      "  9.86279105e-04 4.04993829e-04 4.47850516e-06 9.48721950e-04\n",
      "  3.59486416e-02 3.70015353e-02 1.64477434e-03 4.07321131e-05\n",
      "  6.47755573e-04 9.76846670e-04 2.10241109e-04 8.09109013e-04\n",
      "  1.69347459e-05 3.20753902e-02 3.99619421e-06 1.50427615e-04\n",
      "  1.43594472e-04 1.77827023e-03 9.87152307e-05 7.45064288e-04\n",
      "  2.38879840e-03 2.27834331e-03 2.56555714e-02 2.94219069e-02\n",
      "  3.36465202e-02 1.49481675e-05 1.54794488e-05 2.89423449e-04\n",
      "  1.22794388e-02 2.25817040e-02 7.68310110e-06 7.56760801e-06\n",
      "  3.57614772e-06 3.05855683e-05 2.38245062e-04 3.85320964e-05\n",
      "  2.94374991e-02 4.81205480e-03 2.16149579e-06 1.50537744e-07\n",
      "  2.57937517e-02 2.19782305e-04 2.91389675e-04 2.89473013e-04\n",
      "  7.17189459e-06 3.48177991e-07 3.84474243e-03 3.46608322e-05\n",
      "  4.62033358e-06 2.47410426e-05 2.83950016e-07 8.26504547e-03\n",
      "  1.95904784e-02 2.83997133e-02 1.99680775e-02 1.21598059e-04\n",
      "  3.82691212e-02 4.05624472e-02 2.12982371e-02 4.11388427e-02\n",
      "  1.00025991e-02 7.44027147e-06 2.07936737e-05 3.43781949e-06]]\n"
     ]
    }
   ],
   "source": [
    "print(model.predict([p]))"
   ]
  },
  {
   "cell_type": "code",
   "execution_count": 10,
   "metadata": {},
   "outputs": [],
   "source": [
    "import pickle\n",
    "pickle.dump( {'words':words, 'classes':classes, 'train_x':train_x, 'train_y':train_y}, open( \"training_data\", \"wb\" ) )"
   ]
  },
  {
   "cell_type": "code",
   "execution_count": 11,
   "metadata": {},
   "outputs": [],
   "source": [
    "# create a data structure to hold user context\n",
    "context = {}\n",
    "\n",
    "ERROR_THRESHOLD = 0.25\n",
    "def classify(sentence):\n",
    "    # generate probabilities from the model\n",
    "    results = model.predict([bow(sentence, words)])[0]\n",
    "    # filter out predictions below a threshold\n",
    "    results = [[i,r] for i,r in enumerate(results) if r>ERROR_THRESHOLD]\n",
    "    # sort by strength of probability\n",
    "    results.sort(key=lambda x: x[1], reverse=True)\n",
    "    return_list = []\n",
    "    for r in results:\n",
    "        return_list.append((classes[r[0]], r[1]))\n",
    "    # return tuple of intent and probability\n",
    "    return return_list\n",
    "\n",
    "def response(sentence, userID='123', show_details=False):\n",
    "    results = classify(sentence)\n",
    "    # if we have a classification then find the matching intent tag\n",
    "    if results:\n",
    "        # loop as long as there are matches to process\n",
    "        while results:\n",
    "            for i in intents['intents']:\n",
    "                # find a tag matching the first result\n",
    "                if i['tag'] == results[0][0]:\n",
    "                    # set context for this intent if necessary\n",
    "                    if 'context_set' in i:\n",
    "                        if show_details: print ('context:', i['context_set'])\n",
    "                        context[userID] = i['context_set']\n",
    "\n",
    "                    # check if this intent is contextual and applies to this user's conversation\n",
    "                    if not 'context_filter' in i or \\\n",
    "                        (userID in context and 'context_filter' in i and i['context_filter'] == context[userID]):\n",
    "                        if show_details: print ('tag:', i['tag'])\n",
    "                        # a random response from the intent\n",
    "                        return print(random.choice(i['responses']))\n",
    "\n",
    "            results.pop(0)"
   ]
  },
  {
   "cell_type": "code",
   "execution_count": 12,
   "metadata": {},
   "outputs": [
    {
     "data": {
      "text/plain": [
       "[('diverticulosis', 0.93682706)]"
      ]
     },
     "execution_count": 12,
     "metadata": {},
     "output_type": "execute_result"
    }
   ],
   "source": [
    "classify('Feeling nausea')"
   ]
  },
  {
   "cell_type": "code",
   "execution_count": 13,
   "metadata": {},
   "outputs": [],
   "source": [
    "response('empysema pulmonary')"
   ]
  },
  {
   "cell_type": "code",
   "execution_count": 14,
   "metadata": {},
   "outputs": [],
   "source": [
    "response('do you take cash?')"
   ]
  },
  {
   "cell_type": "code",
   "execution_count": 50,
   "metadata": {},
   "outputs": [],
   "source": [
    "response('what kind of mopeds do you rent?')"
   ]
  },
  {
   "cell_type": "code",
   "execution_count": 51,
   "metadata": {},
   "outputs": [],
   "source": [
    "response('Goodbye, see you later')"
   ]
  },
  {
   "cell_type": "code",
   "execution_count": 52,
   "metadata": {},
   "outputs": [
    {
     "data": {
      "text/plain": [
       "{}"
      ]
     },
     "execution_count": 52,
     "metadata": {},
     "output_type": "execute_result"
    }
   ],
   "source": [
    "context"
   ]
  },
  {
   "cell_type": "code",
   "execution_count": 53,
   "metadata": {},
   "outputs": [
    {
     "name": "stdout",
     "output_type": "stream",
     "text": [
      "We will be with you as soon as we can\n"
     ]
    }
   ],
   "source": [
    "response('we want to rent a moped')"
   ]
  },
  {
   "cell_type": "code",
   "execution_count": 54,
   "metadata": {},
   "outputs": [
    {
     "data": {
      "text/plain": [
       "{}"
      ]
     },
     "execution_count": 54,
     "metadata": {},
     "output_type": "execute_result"
    }
   ],
   "source": [
    "context"
   ]
  },
  {
   "cell_type": "code",
   "execution_count": 55,
   "metadata": {},
   "outputs": [],
   "source": [
    "response('today')"
   ]
  },
  {
   "cell_type": "code",
   "execution_count": 56,
   "metadata": {},
   "outputs": [
    {
     "data": {
      "text/plain": [
       "[]"
      ]
     },
     "execution_count": 56,
     "metadata": {},
     "output_type": "execute_result"
    }
   ],
   "source": [
    "classify('today')"
   ]
  },
  {
   "cell_type": "code",
   "execution_count": 57,
   "metadata": {},
   "outputs": [],
   "source": [
    "response(\"Hi there!\", show_details=True)"
   ]
  },
  {
   "cell_type": "code",
   "execution_count": 58,
   "metadata": {},
   "outputs": [
    {
     "data": {
      "text/plain": [
       "[]"
      ]
     },
     "execution_count": 58,
     "metadata": {},
     "output_type": "execute_result"
    }
   ],
   "source": [
    "response('today')\n",
    "classify('today')"
   ]
  },
  {
   "cell_type": "code",
   "execution_count": 59,
   "metadata": {},
   "outputs": [],
   "source": [
    "response(\"thanks, your great\")"
   ]
  },
  {
   "cell_type": "code",
   "execution_count": null,
   "metadata": {},
   "outputs": [],
   "source": []
  }
 ],
 "metadata": {
  "kernelspec": {
   "display_name": "Python 3",
   "language": "python",
   "name": "python3"
  },
  "language_info": {
   "codemirror_mode": {
    "name": "ipython",
    "version": 3
   },
   "file_extension": ".py",
   "mimetype": "text/x-python",
   "name": "python",
   "nbconvert_exporter": "python",
   "pygments_lexer": "ipython3",
   "version": "3.7.1"
  }
 },
 "nbformat": 4,
 "nbformat_minor": 2
}
